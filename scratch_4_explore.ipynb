{
 "cells": [
  {
   "cell_type": "code",
   "execution_count": 36,
   "id": "8eba3626",
   "metadata": {},
   "outputs": [],
   "source": [
    "import numpy as np\n",
    "import pandas as pd\n",
    "import acquire\n",
    "import matplotlib.pyplot as plt\n",
    "import seaborn as sns\n",
    "from scipy import stats"
   ]
  },
  {
   "cell_type": "code",
   "execution_count": 2,
   "id": "4c6867fc",
   "metadata": {},
   "outputs": [],
   "source": [
    "df = acquire.get_telco_data()"
   ]
  },
  {
   "cell_type": "code",
   "execution_count": 3,
   "id": "3cdc77d8",
   "metadata": {},
   "outputs": [
    {
     "data": {
      "text/html": [
       "<div>\n",
       "<style scoped>\n",
       "    .dataframe tbody tr th:only-of-type {\n",
       "        vertical-align: middle;\n",
       "    }\n",
       "\n",
       "    .dataframe tbody tr th {\n",
       "        vertical-align: top;\n",
       "    }\n",
       "\n",
       "    .dataframe thead th {\n",
       "        text-align: right;\n",
       "    }\n",
       "</style>\n",
       "<table border=\"1\" class=\"dataframe\">\n",
       "  <thead>\n",
       "    <tr style=\"text-align: right;\">\n",
       "      <th></th>\n",
       "      <th>0</th>\n",
       "    </tr>\n",
       "  </thead>\n",
       "  <tbody>\n",
       "    <tr>\n",
       "      <th>customer_id</th>\n",
       "      <td>0002-ORFBO</td>\n",
       "    </tr>\n",
       "    <tr>\n",
       "      <th>contract_type_id</th>\n",
       "      <td>2</td>\n",
       "    </tr>\n",
       "    <tr>\n",
       "      <th>payment_type_id</th>\n",
       "      <td>2</td>\n",
       "    </tr>\n",
       "    <tr>\n",
       "      <th>internet_service_type_id</th>\n",
       "      <td>1</td>\n",
       "    </tr>\n",
       "    <tr>\n",
       "      <th>gender</th>\n",
       "      <td>Female</td>\n",
       "    </tr>\n",
       "    <tr>\n",
       "      <th>senior_citizen</th>\n",
       "      <td>0</td>\n",
       "    </tr>\n",
       "    <tr>\n",
       "      <th>partner</th>\n",
       "      <td>Yes</td>\n",
       "    </tr>\n",
       "    <tr>\n",
       "      <th>dependents</th>\n",
       "      <td>Yes</td>\n",
       "    </tr>\n",
       "    <tr>\n",
       "      <th>tenure</th>\n",
       "      <td>9</td>\n",
       "    </tr>\n",
       "    <tr>\n",
       "      <th>phone_service</th>\n",
       "      <td>Yes</td>\n",
       "    </tr>\n",
       "    <tr>\n",
       "      <th>multiple_lines</th>\n",
       "      <td>No</td>\n",
       "    </tr>\n",
       "    <tr>\n",
       "      <th>online_security</th>\n",
       "      <td>No</td>\n",
       "    </tr>\n",
       "    <tr>\n",
       "      <th>online_backup</th>\n",
       "      <td>Yes</td>\n",
       "    </tr>\n",
       "    <tr>\n",
       "      <th>device_protection</th>\n",
       "      <td>No</td>\n",
       "    </tr>\n",
       "    <tr>\n",
       "      <th>tech_support</th>\n",
       "      <td>Yes</td>\n",
       "    </tr>\n",
       "    <tr>\n",
       "      <th>streaming_tv</th>\n",
       "      <td>Yes</td>\n",
       "    </tr>\n",
       "    <tr>\n",
       "      <th>streaming_movies</th>\n",
       "      <td>No</td>\n",
       "    </tr>\n",
       "    <tr>\n",
       "      <th>paperless_billing</th>\n",
       "      <td>Yes</td>\n",
       "    </tr>\n",
       "    <tr>\n",
       "      <th>monthly_charges</th>\n",
       "      <td>65.6</td>\n",
       "    </tr>\n",
       "    <tr>\n",
       "      <th>total_charges</th>\n",
       "      <td>593.3</td>\n",
       "    </tr>\n",
       "    <tr>\n",
       "      <th>churn</th>\n",
       "      <td>No</td>\n",
       "    </tr>\n",
       "    <tr>\n",
       "      <th>internet_service_type</th>\n",
       "      <td>DSL</td>\n",
       "    </tr>\n",
       "    <tr>\n",
       "      <th>phone_service</th>\n",
       "      <td>Yes</td>\n",
       "    </tr>\n",
       "    <tr>\n",
       "      <th>multiple_lines</th>\n",
       "      <td>No</td>\n",
       "    </tr>\n",
       "    <tr>\n",
       "      <th>internet_service_type_id</th>\n",
       "      <td>1</td>\n",
       "    </tr>\n",
       "    <tr>\n",
       "      <th>online_security</th>\n",
       "      <td>No</td>\n",
       "    </tr>\n",
       "    <tr>\n",
       "      <th>online_backup</th>\n",
       "      <td>Yes</td>\n",
       "    </tr>\n",
       "    <tr>\n",
       "      <th>device_protection</th>\n",
       "      <td>No</td>\n",
       "    </tr>\n",
       "    <tr>\n",
       "      <th>tech_support</th>\n",
       "      <td>Yes</td>\n",
       "    </tr>\n",
       "    <tr>\n",
       "      <th>streaming_tv</th>\n",
       "      <td>Yes</td>\n",
       "    </tr>\n",
       "    <tr>\n",
       "      <th>streaming_movies</th>\n",
       "      <td>No</td>\n",
       "    </tr>\n",
       "    <tr>\n",
       "      <th>payment_type</th>\n",
       "      <td>Mailed check</td>\n",
       "    </tr>\n",
       "    <tr>\n",
       "      <th>contract_type</th>\n",
       "      <td>One year</td>\n",
       "    </tr>\n",
       "    <tr>\n",
       "      <th>churn_month</th>\n",
       "      <td>None</td>\n",
       "    </tr>\n",
       "    <tr>\n",
       "      <th>contract_type_id</th>\n",
       "      <td>2</td>\n",
       "    </tr>\n",
       "    <tr>\n",
       "      <th>paperless_billing</th>\n",
       "      <td>Yes</td>\n",
       "    </tr>\n",
       "    <tr>\n",
       "      <th>gender</th>\n",
       "      <td>Female</td>\n",
       "    </tr>\n",
       "    <tr>\n",
       "      <th>senior_citizen</th>\n",
       "      <td>0</td>\n",
       "    </tr>\n",
       "    <tr>\n",
       "      <th>partner</th>\n",
       "      <td>Yes</td>\n",
       "    </tr>\n",
       "    <tr>\n",
       "      <th>dependents</th>\n",
       "      <td>Yes</td>\n",
       "    </tr>\n",
       "    <tr>\n",
       "      <th>payment_type_id</th>\n",
       "      <td>2</td>\n",
       "    </tr>\n",
       "    <tr>\n",
       "      <th>monthly_charges</th>\n",
       "      <td>65.6</td>\n",
       "    </tr>\n",
       "    <tr>\n",
       "      <th>total_charges</th>\n",
       "      <td>593.3</td>\n",
       "    </tr>\n",
       "    <tr>\n",
       "      <th>signup_date</th>\n",
       "      <td>2021-04-21 18:07:34</td>\n",
       "    </tr>\n",
       "  </tbody>\n",
       "</table>\n",
       "</div>"
      ],
      "text/plain": [
       "                                            0\n",
       "customer_id                        0002-ORFBO\n",
       "contract_type_id                            2\n",
       "payment_type_id                             2\n",
       "internet_service_type_id                    1\n",
       "gender                                 Female\n",
       "senior_citizen                              0\n",
       "partner                                   Yes\n",
       "dependents                                Yes\n",
       "tenure                                      9\n",
       "phone_service                             Yes\n",
       "multiple_lines                             No\n",
       "online_security                            No\n",
       "online_backup                             Yes\n",
       "device_protection                          No\n",
       "tech_support                              Yes\n",
       "streaming_tv                              Yes\n",
       "streaming_movies                           No\n",
       "paperless_billing                         Yes\n",
       "monthly_charges                          65.6\n",
       "total_charges                           593.3\n",
       "churn                                      No\n",
       "internet_service_type                     DSL\n",
       "phone_service                             Yes\n",
       "multiple_lines                             No\n",
       "internet_service_type_id                    1\n",
       "online_security                            No\n",
       "online_backup                             Yes\n",
       "device_protection                          No\n",
       "tech_support                              Yes\n",
       "streaming_tv                              Yes\n",
       "streaming_movies                           No\n",
       "payment_type                     Mailed check\n",
       "contract_type                        One year\n",
       "churn_month                              None\n",
       "contract_type_id                            2\n",
       "paperless_billing                         Yes\n",
       "gender                                 Female\n",
       "senior_citizen                              0\n",
       "partner                                   Yes\n",
       "dependents                                Yes\n",
       "payment_type_id                             2\n",
       "monthly_charges                          65.6\n",
       "total_charges                           593.3\n",
       "signup_date               2021-04-21 18:07:34"
      ]
     },
     "execution_count": 3,
     "metadata": {},
     "output_type": "execute_result"
    }
   ],
   "source": [
    "df.head(1).T"
   ]
  },
  {
   "cell_type": "code",
   "execution_count": 4,
   "id": "f7e9a165",
   "metadata": {},
   "outputs": [],
   "source": [
    "df['total_charges'] = (df.total_charges + '0').astype('float')"
   ]
  },
  {
   "cell_type": "code",
   "execution_count": 5,
   "id": "0a0f3888",
   "metadata": {},
   "outputs": [],
   "source": [
    "df = df.drop(columns = ['internet_service_type_id', 'contract_type_id', 'payment_type_id'])"
   ]
  },
  {
   "cell_type": "code",
   "execution_count": 6,
   "id": "dee55ed7",
   "metadata": {},
   "outputs": [],
   "source": [
    "df = df.loc[:,~df.columns.duplicated()].copy()"
   ]
  },
  {
   "cell_type": "code",
   "execution_count": 7,
   "id": "2d970d64",
   "metadata": {},
   "outputs": [
    {
     "data": {
      "text/html": [
       "<div>\n",
       "<style scoped>\n",
       "    .dataframe tbody tr th:only-of-type {\n",
       "        vertical-align: middle;\n",
       "    }\n",
       "\n",
       "    .dataframe tbody tr th {\n",
       "        vertical-align: top;\n",
       "    }\n",
       "\n",
       "    .dataframe thead th {\n",
       "        text-align: right;\n",
       "    }\n",
       "</style>\n",
       "<table border=\"1\" class=\"dataframe\">\n",
       "  <thead>\n",
       "    <tr style=\"text-align: right;\">\n",
       "      <th></th>\n",
       "      <th>0</th>\n",
       "    </tr>\n",
       "  </thead>\n",
       "  <tbody>\n",
       "    <tr>\n",
       "      <th>customer_id</th>\n",
       "      <td>0002-ORFBO</td>\n",
       "    </tr>\n",
       "    <tr>\n",
       "      <th>gender</th>\n",
       "      <td>Female</td>\n",
       "    </tr>\n",
       "    <tr>\n",
       "      <th>senior_citizen</th>\n",
       "      <td>0</td>\n",
       "    </tr>\n",
       "    <tr>\n",
       "      <th>partner</th>\n",
       "      <td>Yes</td>\n",
       "    </tr>\n",
       "    <tr>\n",
       "      <th>dependents</th>\n",
       "      <td>Yes</td>\n",
       "    </tr>\n",
       "    <tr>\n",
       "      <th>tenure</th>\n",
       "      <td>9</td>\n",
       "    </tr>\n",
       "    <tr>\n",
       "      <th>phone_service</th>\n",
       "      <td>Yes</td>\n",
       "    </tr>\n",
       "    <tr>\n",
       "      <th>multiple_lines</th>\n",
       "      <td>No</td>\n",
       "    </tr>\n",
       "    <tr>\n",
       "      <th>online_security</th>\n",
       "      <td>No</td>\n",
       "    </tr>\n",
       "    <tr>\n",
       "      <th>online_backup</th>\n",
       "      <td>Yes</td>\n",
       "    </tr>\n",
       "    <tr>\n",
       "      <th>device_protection</th>\n",
       "      <td>No</td>\n",
       "    </tr>\n",
       "    <tr>\n",
       "      <th>tech_support</th>\n",
       "      <td>Yes</td>\n",
       "    </tr>\n",
       "    <tr>\n",
       "      <th>streaming_tv</th>\n",
       "      <td>Yes</td>\n",
       "    </tr>\n",
       "    <tr>\n",
       "      <th>streaming_movies</th>\n",
       "      <td>No</td>\n",
       "    </tr>\n",
       "    <tr>\n",
       "      <th>paperless_billing</th>\n",
       "      <td>Yes</td>\n",
       "    </tr>\n",
       "    <tr>\n",
       "      <th>monthly_charges</th>\n",
       "      <td>65.6</td>\n",
       "    </tr>\n",
       "    <tr>\n",
       "      <th>total_charges</th>\n",
       "      <td>593.3</td>\n",
       "    </tr>\n",
       "    <tr>\n",
       "      <th>churn</th>\n",
       "      <td>No</td>\n",
       "    </tr>\n",
       "    <tr>\n",
       "      <th>internet_service_type</th>\n",
       "      <td>DSL</td>\n",
       "    </tr>\n",
       "    <tr>\n",
       "      <th>payment_type</th>\n",
       "      <td>Mailed check</td>\n",
       "    </tr>\n",
       "    <tr>\n",
       "      <th>contract_type</th>\n",
       "      <td>One year</td>\n",
       "    </tr>\n",
       "    <tr>\n",
       "      <th>churn_month</th>\n",
       "      <td>None</td>\n",
       "    </tr>\n",
       "    <tr>\n",
       "      <th>signup_date</th>\n",
       "      <td>2021-04-21 18:07:34</td>\n",
       "    </tr>\n",
       "  </tbody>\n",
       "</table>\n",
       "</div>"
      ],
      "text/plain": [
       "                                         0\n",
       "customer_id                     0002-ORFBO\n",
       "gender                              Female\n",
       "senior_citizen                           0\n",
       "partner                                Yes\n",
       "dependents                             Yes\n",
       "tenure                                   9\n",
       "phone_service                          Yes\n",
       "multiple_lines                          No\n",
       "online_security                         No\n",
       "online_backup                          Yes\n",
       "device_protection                       No\n",
       "tech_support                           Yes\n",
       "streaming_tv                           Yes\n",
       "streaming_movies                        No\n",
       "paperless_billing                      Yes\n",
       "monthly_charges                       65.6\n",
       "total_charges                        593.3\n",
       "churn                                   No\n",
       "internet_service_type                  DSL\n",
       "payment_type                  Mailed check\n",
       "contract_type                     One year\n",
       "churn_month                           None\n",
       "signup_date            2021-04-21 18:07:34"
      ]
     },
     "execution_count": 7,
     "metadata": {},
     "output_type": "execute_result"
    }
   ],
   "source": [
    "df.head(1).T"
   ]
  },
  {
   "cell_type": "code",
   "execution_count": 8,
   "id": "ec05c9ef",
   "metadata": {},
   "outputs": [
    {
     "data": {
      "text/plain": [
       "23"
      ]
     },
     "execution_count": 8,
     "metadata": {},
     "output_type": "execute_result"
    }
   ],
   "source": [
    "df.shape[1]"
   ]
  },
  {
   "cell_type": "code",
   "execution_count": 9,
   "id": "892ed783",
   "metadata": {},
   "outputs": [],
   "source": [
    "churn_info = df[['churn_month','customer_id','churn']]"
   ]
  },
  {
   "cell_type": "code",
   "execution_count": 10,
   "id": "0734fb7b",
   "metadata": {},
   "outputs": [],
   "source": [
    "df = df.drop(['churn_month'],axis=1)"
   ]
  },
  {
   "cell_type": "code",
   "execution_count": 11,
   "id": "845eaecc",
   "metadata": {},
   "outputs": [
    {
     "data": {
      "text/plain": [
       "pandas.core.frame.DataFrame"
      ]
     },
     "execution_count": 11,
     "metadata": {},
     "output_type": "execute_result"
    }
   ],
   "source": [
    "type(churn_info)"
   ]
  },
  {
   "cell_type": "code",
   "execution_count": 12,
   "id": "057406ba",
   "metadata": {},
   "outputs": [],
   "source": [
    "churn_info = churn_info.join(df['signup_date'])"
   ]
  },
  {
   "cell_type": "code",
   "execution_count": 13,
   "id": "0dc2f55e",
   "metadata": {
    "scrolled": false
   },
   "outputs": [
    {
     "data": {
      "text/html": [
       "<div>\n",
       "<style scoped>\n",
       "    .dataframe tbody tr th:only-of-type {\n",
       "        vertical-align: middle;\n",
       "    }\n",
       "\n",
       "    .dataframe tbody tr th {\n",
       "        vertical-align: top;\n",
       "    }\n",
       "\n",
       "    .dataframe thead th {\n",
       "        text-align: right;\n",
       "    }\n",
       "</style>\n",
       "<table border=\"1\" class=\"dataframe\">\n",
       "  <thead>\n",
       "    <tr style=\"text-align: right;\">\n",
       "      <th></th>\n",
       "      <th>churn_month</th>\n",
       "      <th>customer_id</th>\n",
       "      <th>churn</th>\n",
       "      <th>signup_date</th>\n",
       "    </tr>\n",
       "  </thead>\n",
       "  <tbody>\n",
       "    <tr>\n",
       "      <th>0</th>\n",
       "      <td>None</td>\n",
       "      <td>0002-ORFBO</td>\n",
       "      <td>No</td>\n",
       "      <td>2021-04-21 18:07:34</td>\n",
       "    </tr>\n",
       "    <tr>\n",
       "      <th>1</th>\n",
       "      <td>None</td>\n",
       "      <td>0003-MKNFE</td>\n",
       "      <td>No</td>\n",
       "      <td>2021-04-21 18:07:34</td>\n",
       "    </tr>\n",
       "    <tr>\n",
       "      <th>2</th>\n",
       "      <td>2022-01-31</td>\n",
       "      <td>0004-TLHLJ</td>\n",
       "      <td>Yes</td>\n",
       "      <td>2021-09-21 18:07:34</td>\n",
       "    </tr>\n",
       "    <tr>\n",
       "      <th>3</th>\n",
       "      <td>2022-01-31</td>\n",
       "      <td>0011-IGKFF</td>\n",
       "      <td>Yes</td>\n",
       "      <td>2020-12-21 18:07:34</td>\n",
       "    </tr>\n",
       "    <tr>\n",
       "      <th>4</th>\n",
       "      <td>2022-01-31</td>\n",
       "      <td>0013-EXCHZ</td>\n",
       "      <td>Yes</td>\n",
       "      <td>2021-10-21 18:07:34</td>\n",
       "    </tr>\n",
       "    <tr>\n",
       "      <th>...</th>\n",
       "      <td>...</td>\n",
       "      <td>...</td>\n",
       "      <td>...</td>\n",
       "      <td>...</td>\n",
       "    </tr>\n",
       "    <tr>\n",
       "      <th>7038</th>\n",
       "      <td>None</td>\n",
       "      <td>9979-RGMZT</td>\n",
       "      <td>No</td>\n",
       "      <td>2021-06-21 18:07:34</td>\n",
       "    </tr>\n",
       "    <tr>\n",
       "      <th>7039</th>\n",
       "      <td>2022-01-31</td>\n",
       "      <td>9985-MWVIX</td>\n",
       "      <td>Yes</td>\n",
       "      <td>2021-12-21 18:07:34</td>\n",
       "    </tr>\n",
       "    <tr>\n",
       "      <th>7040</th>\n",
       "      <td>2022-01-31</td>\n",
       "      <td>9986-BONCE</td>\n",
       "      <td>Yes</td>\n",
       "      <td>2021-09-21 18:07:34</td>\n",
       "    </tr>\n",
       "    <tr>\n",
       "      <th>7041</th>\n",
       "      <td>None</td>\n",
       "      <td>9992-UJOEL</td>\n",
       "      <td>No</td>\n",
       "      <td>2021-11-21 18:07:34</td>\n",
       "    </tr>\n",
       "    <tr>\n",
       "      <th>7042</th>\n",
       "      <td>None</td>\n",
       "      <td>9995-HOTOH</td>\n",
       "      <td>No</td>\n",
       "      <td>2016-10-21 18:07:34</td>\n",
       "    </tr>\n",
       "  </tbody>\n",
       "</table>\n",
       "<p>7043 rows × 4 columns</p>\n",
       "</div>"
      ],
      "text/plain": [
       "     churn_month customer_id churn         signup_date\n",
       "0           None  0002-ORFBO    No 2021-04-21 18:07:34\n",
       "1           None  0003-MKNFE    No 2021-04-21 18:07:34\n",
       "2     2022-01-31  0004-TLHLJ   Yes 2021-09-21 18:07:34\n",
       "3     2022-01-31  0011-IGKFF   Yes 2020-12-21 18:07:34\n",
       "4     2022-01-31  0013-EXCHZ   Yes 2021-10-21 18:07:34\n",
       "...          ...         ...   ...                 ...\n",
       "7038        None  9979-RGMZT    No 2021-06-21 18:07:34\n",
       "7039  2022-01-31  9985-MWVIX   Yes 2021-12-21 18:07:34\n",
       "7040  2022-01-31  9986-BONCE   Yes 2021-09-21 18:07:34\n",
       "7041        None  9992-UJOEL    No 2021-11-21 18:07:34\n",
       "7042        None  9995-HOTOH    No 2016-10-21 18:07:34\n",
       "\n",
       "[7043 rows x 4 columns]"
      ]
     },
     "execution_count": 13,
     "metadata": {},
     "output_type": "execute_result"
    }
   ],
   "source": [
    "churn_info"
   ]
  },
  {
   "cell_type": "markdown",
   "id": "cab83165",
   "metadata": {},
   "source": [
    "# Explore Questions\n",
    "<hr style=\"border:2px solid gray\">"
   ]
  },
  {
   "cell_type": "markdown",
   "id": "93484255",
   "metadata": {},
   "source": [
    "* How often does churn occur?\n",
    "* Does having tech support effect churn?\n",
    "* Does total addons affect churn?\n",
    "* Does being a senior citizen affect churn?\n",
    "---\n",
    "* Is tenure important driving churn?\n",
    "---\n",
    "* Does total deviation from average of `total_charges` affect churn?\n",
    "---\n",
    "* Does having tech support and  being a senior citizen effect churn?\n",
    "* Is paperless_billing, payment_type related?\n",
    "* Does having `dependents` & `multiple_lines` correlate to churn?\n",
    "* Does gender & total charge affect churn?\n",
    "* Does join date affect churn?"
   ]
  },
  {
   "cell_type": "markdown",
   "id": "39a8dbaf",
   "metadata": {},
   "source": [
    "# 1. How often does churn occur?"
   ]
  },
  {
   "cell_type": "markdown",
   "id": "1108dc79",
   "metadata": {},
   "source": [
    "# A. Graph"
   ]
  },
  {
   "cell_type": "code",
   "execution_count": 14,
   "id": "9176daef",
   "metadata": {},
   "outputs": [
    {
     "data": {
      "text/plain": [
       "<AxesSubplot: xlabel='churn', ylabel='count'>"
      ]
     },
     "execution_count": 14,
     "metadata": {},
     "output_type": "execute_result"
    },
    {
     "data": {
      "image/png": "[encoded data removed]",
      "text/plain": [
       "<Figure size 640x480 with 1 Axes>"
      ]
     },
     "metadata": {},
     "output_type": "display_data"
    }
   ],
   "source": [
    "sns.countplot(x=df[\"churn\"])"
   ]
  },
  {
   "cell_type": "markdown",
   "id": "8c098035",
   "metadata": {},
   "source": [
    "# 2. Does having tech support effect churn?"
   ]
  },
  {
   "cell_type": "markdown",
   "id": "2ebe2626",
   "metadata": {},
   "source": [
    "# A. Stat Test"
   ]
  },
  {
   "cell_type": "markdown",
   "id": "5d2a527a",
   "metadata": {},
   "source": [
    "### Categorical vs. Categorical"
   ]
  },
  {
   "cell_type": "markdown",
   "id": "e20dd23d",
   "metadata": {},
   "source": [
    "**Chi Square**\n",
    "\n",
    "We will investigate the question of whether `churn` is independent of being a `senior_citizen`.\n",
    "\n",
    "- $H_{0}$ (Null Hypothesis): `churn` is independent of being a `senior_citizen`. \n",
    "\n",
    "- $H_{a}$ (Alternative Hypothesis): `churn` is dependent on being a `senior_citizen`. "
   ]
  },
  {
   "cell_type": "code",
   "execution_count": 15,
   "id": "55a84e76",
   "metadata": {},
   "outputs": [],
   "source": [
    "group1='senior_citizen'\n",
    "group2='churn'"
   ]
  },
  {
   "cell_type": "code",
   "execution_count": 16,
   "id": "1413cfb5",
   "metadata": {},
   "outputs": [
    {
     "data": {
      "text/html": [
       "<div>\n",
       "<style scoped>\n",
       "    .dataframe tbody tr th:only-of-type {\n",
       "        vertical-align: middle;\n",
       "    }\n",
       "\n",
       "    .dataframe tbody tr th {\n",
       "        vertical-align: top;\n",
       "    }\n",
       "\n",
       "    .dataframe thead th {\n",
       "        text-align: right;\n",
       "    }\n",
       "</style>\n",
       "<table border=\"1\" class=\"dataframe\">\n",
       "  <thead>\n",
       "    <tr style=\"text-align: right;\">\n",
       "      <th>churn</th>\n",
       "      <th>No</th>\n",
       "      <th>Yes</th>\n",
       "    </tr>\n",
       "    <tr>\n",
       "      <th>senior_citizen</th>\n",
       "      <th></th>\n",
       "      <th></th>\n",
       "    </tr>\n",
       "  </thead>\n",
       "  <tbody>\n",
       "    <tr>\n",
       "      <th>0</th>\n",
       "      <td>4508</td>\n",
       "      <td>1393</td>\n",
       "    </tr>\n",
       "    <tr>\n",
       "      <th>1</th>\n",
       "      <td>666</td>\n",
       "      <td>476</td>\n",
       "    </tr>\n",
       "  </tbody>\n",
       "</table>\n",
       "</div>"
      ],
      "text/plain": [
       "churn             No   Yes\n",
       "senior_citizen            \n",
       "0               4508  1393\n",
       "1                666   476"
      ]
     },
     "execution_count": 16,
     "metadata": {},
     "output_type": "execute_result"
    }
   ],
   "source": [
    "# crosstab senior_citizen and tech_support\n",
    "observed = pd.crosstab(df[group1], df[group2])\n",
    "observed"
   ]
  },
  {
   "cell_type": "code",
   "execution_count": 17,
   "id": "ab4b80d4",
   "metadata": {},
   "outputs": [],
   "source": [
    "# run chi2_contingency\n",
    "alpha = 0.05\n",
    "chi2, p, dof, expected = stats.chi2_contingency(observed)"
   ]
  },
  {
   "cell_type": "code",
   "execution_count": 18,
   "id": "55cab82e",
   "metadata": {},
   "outputs": [],
   "source": [
    "observed_out = observed.values"
   ]
  },
  {
   "cell_type": "code",
   "execution_count": 19,
   "id": "c05e8fb0",
   "metadata": {},
   "outputs": [],
   "source": [
    "expected_out = expected.astype(int)"
   ]
  },
  {
   "cell_type": "code",
   "execution_count": 20,
   "id": "f31a41bf",
   "metadata": {},
   "outputs": [
    {
     "name": "stdout",
     "output_type": "stream",
     "text": [
      "Observed Values\n",
      "\n",
      "[[4508 1393]\n",
      " [ 666  476]]\n",
      "------\n",
      "Expected Values\n",
      "\n",
      "[[4335 1565]\n",
      " [ 838  303]]\n",
      "-----\n",
      "\n",
      "chi^2 =  159.4263\n",
      "p-value =  0.0000\n",
      "Is p-value < alpha? True\n"
     ]
    }
   ],
   "source": [
    "# print 'Observed Values' followed by a new line\n",
    "print('Observed Values\\n')\n",
    "\n",
    "# print the values from the 'observed' dataframe\n",
    "print(observed_out)\n",
    "\n",
    "# print --- and then a new line, 'Expected Values', followed by another new line\n",
    "print('------\\nExpected Values\\n')\n",
    "\n",
    "# print the expected values array\n",
    "print(expected_out)\n",
    "\n",
    "# print a new line\n",
    "print('-----\\n')\n",
    "\n",
    "# print the chi2 value, formatted to a float with 4 digits. \n",
    "print(f'chi^2 = {chi2: .4f}')\n",
    "\n",
    "# print the p-value, formatted to a float with 4 digits. \n",
    "print(f'p-value = {p: .4f}')\n",
    "print('Is p-value < alpha?', p < alpha)"
   ]
  },
  {
   "cell_type": "code",
   "execution_count": 21,
   "id": "9d60b555",
   "metadata": {},
   "outputs": [],
   "source": [
    "# set alpha\n",
    "alpha = 0.05\n",
    "\n",
    "# define eval_results function\n",
    "def eval_results(p, alpha, group1, group2):\n",
    "    '''\n",
    "    this function will take in the p-value, alpha, and a name for the 2 variables\n",
    "    you are comparing (group1 and group2) and return a string stating \n",
    "    whether or not there exists a relationship between the 2 groups. \n",
    "    '''\n",
    "    if p < alpha:\n",
    "        return f'There exists some relationship between {group1} and {group2}. (p-value: {p:.4f})'\n",
    "    else:\n",
    "        return f'There is not a significant relationship between {group1} and {group2}. (p-value: {p:.4f})'"
   ]
  },
  {
   "cell_type": "code",
   "execution_count": 22,
   "id": "fa8eabbc",
   "metadata": {},
   "outputs": [
    {
     "data": {
      "text/plain": [
       "'There exists some relationship between senior_citizen and churn. (p-value: 0.0000)'"
      ]
     },
     "execution_count": 22,
     "metadata": {},
     "output_type": "execute_result"
    }
   ],
   "source": [
    "eval_results(p, alpha, group1, group2)"
   ]
  },
  {
   "cell_type": "markdown",
   "id": "23c942da",
   "metadata": {},
   "source": [
    "# B. Visualize"
   ]
  },
  {
   "cell_type": "code",
   "execution_count": 53,
   "id": "06899058",
   "metadata": {},
   "outputs": [
    {
     "data": {
      "text/plain": [
       "<AxesSubplot: xlabel='churn', ylabel='count'>"
      ]
     },
     "execution_count": 53,
     "metadata": {},
     "output_type": "execute_result"
    },
    {
     "data": {
      "image/png": "[encoded data removed]",
      "text/plain": [
       "<Figure size 640x480 with 1 Axes>"
      ]
     },
     "metadata": {},
     "output_type": "display_data"
    }
   ],
   "source": [
    "sns.countplot(data=df, x=\"churn\", hue=\"tech_support\")"
   ]
  },
  {
   "cell_type": "code",
   "execution_count": null,
   "id": "1417acfb",
   "metadata": {},
   "outputs": [],
   "source": [
    "# Key Takeaways (1-2 sentences)"
   ]
  },
  {
   "cell_type": "markdown",
   "id": "6fa70fa4",
   "metadata": {},
   "source": [
    "# 3. Does total addons affect churn?"
   ]
  },
  {
   "cell_type": "markdown",
   "id": "b39fa7d4",
   "metadata": {},
   "source": [
    "# A. Stat Test"
   ]
  },
  {
   "cell_type": "markdown",
   "id": "f0829e3d",
   "metadata": {},
   "source": [
    "### Categorical vs. Categorical"
   ]
  },
  {
   "cell_type": "markdown",
   "id": "f60c10bf",
   "metadata": {},
   "source": [
    "**T-Test**\n",
    "\n",
    "We will investigate the question of whether `total_addons` is independent of `churn`.\n",
    "\n",
    "- $H_{0}$ (Null Hypothesis): `total_addons` is independent of `churn`. \n",
    "\n",
    "- $H_{a}$ (Alternative Hypothesis): `total_addons` is dependent on `churn`. "
   ]
  },
  {
   "cell_type": "code",
   "execution_count": null,
   "id": "0346d4e7",
   "metadata": {},
   "outputs": [],
   "source": [
    "# df['C'] = df.apply(lambda row: row['A'] + row['B'], axis=1)"
   ]
  },
  {
   "cell_type": "code",
   "execution_count": 54,
   "id": "d8a03d06",
   "metadata": {},
   "outputs": [],
   "source": [
    "addons = ['online_security','online_backup','device_protection', 'tech_support', 'streaming_tv','streaming_movies']"
   ]
  },
  {
   "cell_type": "code",
   "execution_count": 55,
   "id": "27526191",
   "metadata": {},
   "outputs": [],
   "source": [
    "addon_sum=(df[addons]=='Yes').sum(axis=1)"
   ]
  },
  {
   "cell_type": "code",
   "execution_count": 56,
   "id": "ef2737b3",
   "metadata": {},
   "outputs": [],
   "source": [
    "df=df.assign(addon_sum=addon_sum)"
   ]
  },
  {
   "cell_type": "code",
   "execution_count": 57,
   "id": "cb334fc7",
   "metadata": {},
   "outputs": [
    {
     "data": {
      "text/plain": [
       "0       3\n",
       "1       1\n",
       "2       1\n",
       "3       4\n",
       "4       2\n",
       "       ..\n",
       "7038    3\n",
       "7039    0\n",
       "7040    0\n",
       "7041    1\n",
       "7042    5\n",
       "Name: addon_sum, Length: 7043, dtype: int64"
      ]
     },
     "execution_count": 57,
     "metadata": {},
     "output_type": "execute_result"
    }
   ],
   "source": [
    "df['addon_sum']"
   ]
  },
  {
   "cell_type": "code",
   "execution_count": 58,
   "id": "b7827697",
   "metadata": {},
   "outputs": [],
   "source": [
    "group1='addon_sum'\n",
    "group2='churn'"
   ]
  },
  {
   "cell_type": "code",
   "execution_count": 59,
   "id": "f08fdf00",
   "metadata": {},
   "outputs": [],
   "source": [
    "test=df[[group1,group2]]"
   ]
  },
  {
   "cell_type": "code",
   "execution_count": 60,
   "id": "a1edc3ac",
   "metadata": {},
   "outputs": [
    {
     "data": {
      "text/plain": [
       "addon_sum     int64\n",
       "churn        object\n",
       "dtype: object"
      ]
     },
     "execution_count": 60,
     "metadata": {},
     "output_type": "execute_result"
    }
   ],
   "source": [
    "test.dtypes"
   ]
  },
  {
   "cell_type": "code",
   "execution_count": 61,
   "id": "c36aa887",
   "metadata": {},
   "outputs": [
    {
     "data": {
      "text/html": [
       "<div>\n",
       "<style scoped>\n",
       "    .dataframe tbody tr th:only-of-type {\n",
       "        vertical-align: middle;\n",
       "    }\n",
       "\n",
       "    .dataframe tbody tr th {\n",
       "        vertical-align: top;\n",
       "    }\n",
       "\n",
       "    .dataframe thead th {\n",
       "        text-align: right;\n",
       "    }\n",
       "</style>\n",
       "<table border=\"1\" class=\"dataframe\">\n",
       "  <thead>\n",
       "    <tr style=\"text-align: right;\">\n",
       "      <th></th>\n",
       "      <th>addon_sum</th>\n",
       "      <th>churn</th>\n",
       "    </tr>\n",
       "  </thead>\n",
       "  <tbody>\n",
       "    <tr>\n",
       "      <th>0</th>\n",
       "      <td>3</td>\n",
       "      <td>No</td>\n",
       "    </tr>\n",
       "  </tbody>\n",
       "</table>\n",
       "</div>"
      ],
      "text/plain": [
       "   addon_sum churn\n",
       "0          3    No"
      ]
     },
     "execution_count": 61,
     "metadata": {},
     "output_type": "execute_result"
    }
   ],
   "source": [
    "test.head(1)"
   ]
  },
  {
   "cell_type": "code",
   "execution_count": 62,
   "id": "03764c6f",
   "metadata": {},
   "outputs": [
    {
     "data": {
      "text/plain": [
       "0    2219\n",
       "3    1118\n",
       "2    1033\n",
       "1     966\n",
       "4     852\n",
       "5     571\n",
       "6     284\n",
       "Name: addon_sum, dtype: int64"
      ]
     },
     "execution_count": 62,
     "metadata": {},
     "output_type": "execute_result"
    }
   ],
   "source": [
    "df.addon_sum.value_counts()"
   ]
  },
  {
   "cell_type": "code",
   "execution_count": 63,
   "id": "ffae609f",
   "metadata": {},
   "outputs": [
    {
     "data": {
      "text/html": [
       "<div>\n",
       "<style scoped>\n",
       "    .dataframe tbody tr th:only-of-type {\n",
       "        vertical-align: middle;\n",
       "    }\n",
       "\n",
       "    .dataframe tbody tr th {\n",
       "        vertical-align: top;\n",
       "    }\n",
       "\n",
       "    .dataframe thead th {\n",
       "        text-align: right;\n",
       "    }\n",
       "</style>\n",
       "<table border=\"1\" class=\"dataframe\">\n",
       "  <thead>\n",
       "    <tr style=\"text-align: right;\">\n",
       "      <th>churn</th>\n",
       "      <th>No</th>\n",
       "      <th>Yes</th>\n",
       "    </tr>\n",
       "    <tr>\n",
       "      <th>addon_sum</th>\n",
       "      <th></th>\n",
       "      <th></th>\n",
       "    </tr>\n",
       "  </thead>\n",
       "  <tbody>\n",
       "    <tr>\n",
       "      <th>0</th>\n",
       "      <td>1744</td>\n",
       "      <td>475</td>\n",
       "    </tr>\n",
       "    <tr>\n",
       "      <th>1</th>\n",
       "      <td>524</td>\n",
       "      <td>442</td>\n",
       "    </tr>\n",
       "    <tr>\n",
       "      <th>2</th>\n",
       "      <td>663</td>\n",
       "      <td>370</td>\n",
       "    </tr>\n",
       "    <tr>\n",
       "      <th>3</th>\n",
       "      <td>812</td>\n",
       "      <td>306</td>\n",
       "    </tr>\n",
       "    <tr>\n",
       "      <th>4</th>\n",
       "      <td>662</td>\n",
       "      <td>190</td>\n",
       "    </tr>\n",
       "    <tr>\n",
       "      <th>5</th>\n",
       "      <td>500</td>\n",
       "      <td>71</td>\n",
       "    </tr>\n",
       "    <tr>\n",
       "      <th>6</th>\n",
       "      <td>269</td>\n",
       "      <td>15</td>\n",
       "    </tr>\n",
       "  </tbody>\n",
       "</table>\n",
       "</div>"
      ],
      "text/plain": [
       "churn        No  Yes\n",
       "addon_sum           \n",
       "0          1744  475\n",
       "1           524  442\n",
       "2           663  370\n",
       "3           812  306\n",
       "4           662  190\n",
       "5           500   71\n",
       "6           269   15"
      ]
     },
     "execution_count": 63,
     "metadata": {},
     "output_type": "execute_result"
    }
   ],
   "source": [
    "# crosstab senior_citizen and tech_support\n",
    "observed = pd.crosstab(df[group1], df[group2])\n",
    "observed"
   ]
  },
  {
   "cell_type": "code",
   "execution_count": 64,
   "id": "2151e36c",
   "metadata": {},
   "outputs": [],
   "source": [
    "# run chi2_contingency\n",
    "alpha = 0.05\n",
    "chi2, p, dof, expected = stats.chi2_contingency(observed)"
   ]
  },
  {
   "cell_type": "code",
   "execution_count": 65,
   "id": "568a7409",
   "metadata": {},
   "outputs": [],
   "source": [
    "observed_out = observed.values"
   ]
  },
  {
   "cell_type": "code",
   "execution_count": 66,
   "id": "4a2784c5",
   "metadata": {},
   "outputs": [],
   "source": [
    "expected_out = expected.astype(int)"
   ]
  },
  {
   "cell_type": "code",
   "execution_count": 67,
   "id": "dce88619",
   "metadata": {},
   "outputs": [
    {
     "name": "stdout",
     "output_type": "stream",
     "text": [
      "Observed Values\n",
      "\n",
      "[[1744  475]\n",
      " [ 524  442]\n",
      " [ 663  370]\n",
      " [ 812  306]\n",
      " [ 662  190]\n",
      " [ 500   71]\n",
      " [ 269   15]]\n",
      "------\n",
      "Expected Values\n",
      "\n",
      "[[1630  588]\n",
      " [ 709  256]\n",
      " [ 758  274]\n",
      " [ 821  296]\n",
      " [ 625  226]\n",
      " [ 419  151]\n",
      " [ 208   75]]\n",
      "-----\n",
      "\n",
      "chi^2 =  390.9430\n",
      "p-value =  0.0000\n",
      "Is p-value < alpha? True\n"
     ]
    }
   ],
   "source": [
    "# print 'Observed Values' followed by a new line\n",
    "print('Observed Values\\n')\n",
    "\n",
    "# print the values from the 'observed' dataframe\n",
    "print(observed_out)\n",
    "\n",
    "# print --- and then a new line, 'Expected Values', followed by another new line\n",
    "print('------\\nExpected Values\\n')\n",
    "\n",
    "# print the expected values array\n",
    "print(expected_out)\n",
    "\n",
    "# print a new line\n",
    "print('-----\\n')\n",
    "\n",
    "# print the chi2 value, formatted to a float with 4 digits. \n",
    "print(f'chi^2 = {chi2: .4f}')\n",
    "\n",
    "# print the p-value, formatted to a float with 4 digits. \n",
    "print(f'p-value = {p: .4f}')\n",
    "print('Is p-value < alpha?', p < alpha)"
   ]
  },
  {
   "cell_type": "code",
   "execution_count": 68,
   "id": "02c633d3",
   "metadata": {},
   "outputs": [],
   "source": [
    "# set alpha\n",
    "alpha = 0.05\n",
    "\n",
    "# define eval_results function\n",
    "def eval_results(p, alpha, group1, group2):\n",
    "    '''\n",
    "    this function will take in the p-value, alpha, and a name for the 2 variables\n",
    "    you are comparing (group1 and group2) and return a string stating \n",
    "    whether or not there exists a relationship between the 2 groups. \n",
    "    '''\n",
    "    if p < alpha:\n",
    "        return f'There exists some relationship between {group1} and {group2}. (p-value: {p:.4f})'\n",
    "    else:\n",
    "        return f'There is not a significant relationship between {group1} and {group2}. (p-value: {p:.4f})'"
   ]
  },
  {
   "cell_type": "code",
   "execution_count": 69,
   "id": "97211153",
   "metadata": {
    "scrolled": false
   },
   "outputs": [
    {
     "data": {
      "text/plain": [
       "'There exists some relationship between addon_sum and churn. (p-value: 0.0000)'"
      ]
     },
     "execution_count": 69,
     "metadata": {},
     "output_type": "execute_result"
    }
   ],
   "source": [
    "eval_results(p, alpha, group1, group2)"
   ]
  },
  {
   "cell_type": "markdown",
   "id": "b74c795a",
   "metadata": {},
   "source": [
    "# B. Visualize"
   ]
  },
  {
   "cell_type": "code",
   "execution_count": 70,
   "id": "96e39123",
   "metadata": {},
   "outputs": [],
   "source": [
    "CrosstabResult=pd.crosstab(index=df[group1],columns=df[group2])"
   ]
  },
  {
   "cell_type": "code",
   "execution_count": 71,
   "id": "b12cfa43",
   "metadata": {
    "scrolled": false
   },
   "outputs": [
    {
     "data": {
      "text/plain": [
       "<AxesSubplot: xlabel='addon_sum'>"
      ]
     },
     "execution_count": 71,
     "metadata": {},
     "output_type": "execute_result"
    },
    {
     "data": {
      "image/png": "[encoded data removed]",
      "text/plain": [
       "<Figure size 700x400 with 1 Axes>"
      ]
     },
     "metadata": {},
     "output_type": "display_data"
    }
   ],
   "source": [
    "CrosstabResult.plot.bar(figsize=(7,4), rot=0)"
   ]
  },
  {
   "cell_type": "code",
   "execution_count": 115,
   "id": "738e827c",
   "metadata": {},
   "outputs": [
    {
     "data": {
      "text/plain": [
       "0       3\n",
       "1       1\n",
       "2       1\n",
       "3       4\n",
       "4       2\n",
       "       ..\n",
       "7038    3\n",
       "7039    0\n",
       "7040    0\n",
       "7041    1\n",
       "7042    5\n",
       "Name: addon_sum, Length: 7043, dtype: int64"
      ]
     },
     "execution_count": 115,
     "metadata": {},
     "output_type": "execute_result"
    }
   ],
   "source": [
    "df['addon_sum']"
   ]
  },
  {
   "cell_type": "code",
   "execution_count": 121,
   "id": "76dd2adc",
   "metadata": {},
   "outputs": [],
   "source": [
    "df['churn_check'] = df['churn']=='Yes'"
   ]
  },
  {
   "cell_type": "code",
   "execution_count": 126,
   "id": "b39782ce",
   "metadata": {},
   "outputs": [
    {
     "data": {
      "image/png": "[encoded data removed]",
      "text/plain": [
       "<Figure size 640x480 with 1 Axes>"
      ]
     },
     "metadata": {},
     "output_type": "display_data"
    }
   ],
   "source": [
    "plt.title(\"Average Addon\")\n",
    "sns.barplot(x=\"churn\", y=\"addon_sum\", data=dfd)\n",
    "total_addon_average = df[\"addon_sum\"].mean()\n",
    "plt.axhline(total_addon_average, label=\"Average Addon Total\")\n",
    "plt.legend()\n",
    "plt.show()"
   ]
  },
  {
   "cell_type": "code",
   "execution_count": 152,
   "id": "74807253",
   "metadata": {},
   "outputs": [
    {
     "data": {
      "text/plain": [
       "addon_sum\n",
       "0    0.214060\n",
       "1    0.457557\n",
       "2    0.358180\n",
       "3    0.273703\n",
       "4    0.223005\n",
       "5    0.124343\n",
       "6    0.052817\n",
       "Name: churn_check, dtype: float64"
      ]
     },
     "execution_count": 152,
     "metadata": {},
     "output_type": "execute_result"
    }
   ],
   "source": [
    "df.groupby(['addon_sum'])['churn_check'].aggregate('mean')"
   ]
  },
  {
   "cell_type": "code",
   "execution_count": null,
   "id": "e789c619",
   "metadata": {},
   "outputs": [],
   "source": [
    "glue = sns.load_dataset(\"glue\").pivot(\"Model\", \"Task\", \"Score\")\n",
    "sns.heatmap(glue)"
   ]
  },
  {
   "cell_type": "markdown",
   "id": "7180d383",
   "metadata": {},
   "source": [
    "# RELPLOT\n",
    "continuous vs continous"
   ]
  },
  {
   "cell_type": "markdown",
   "id": "8bab2283",
   "metadata": {},
   "source": [
    "# 4. Does being a senior citizen affect churn?"
   ]
  },
  {
   "cell_type": "markdown",
   "id": "803db511",
   "metadata": {},
   "source": [
    "# A. Stat Test"
   ]
  },
  {
   "cell_type": "markdown",
   "id": "660601e3",
   "metadata": {},
   "source": [
    "### Categorical vs. Categorical"
   ]
  },
  {
   "cell_type": "markdown",
   "id": "a179b401",
   "metadata": {},
   "source": [
    "**T-Test**\n",
    "\n",
    "We will investigate the question of whether `senior_citizen` is independent of `churn`.\n",
    "\n",
    "- $H_{0}$ (Null Hypothesis): `senior_citizen` is independent of `churn`. \n",
    "\n",
    "- $H_{a}$ (Alternative Hypothesis): `senior_citizen` is dependent on `churn`. "
   ]
  },
  {
   "cell_type": "code",
   "execution_count": 127,
   "id": "b3c7001c",
   "metadata": {},
   "outputs": [],
   "source": [
    "group1='senior_citizen'\n",
    "group2='churn'"
   ]
  },
  {
   "cell_type": "code",
   "execution_count": 132,
   "id": "2d266c14",
   "metadata": {},
   "outputs": [],
   "source": [
    "test=df[[group1,group2,'churn_check']]"
   ]
  },
  {
   "cell_type": "code",
   "execution_count": 133,
   "id": "07913e45",
   "metadata": {},
   "outputs": [
    {
     "data": {
      "text/plain": [
       "senior_citizen     int64\n",
       "churn             object\n",
       "churn_check         bool\n",
       "dtype: object"
      ]
     },
     "execution_count": 133,
     "metadata": {},
     "output_type": "execute_result"
    }
   ],
   "source": [
    "test.dtypes"
   ]
  },
  {
   "cell_type": "code",
   "execution_count": 134,
   "id": "d0aeeec0",
   "metadata": {
    "scrolled": true
   },
   "outputs": [
    {
     "data": {
      "text/html": [
       "<div>\n",
       "<style scoped>\n",
       "    .dataframe tbody tr th:only-of-type {\n",
       "        vertical-align: middle;\n",
       "    }\n",
       "\n",
       "    .dataframe tbody tr th {\n",
       "        vertical-align: top;\n",
       "    }\n",
       "\n",
       "    .dataframe thead th {\n",
       "        text-align: right;\n",
       "    }\n",
       "</style>\n",
       "<table border=\"1\" class=\"dataframe\">\n",
       "  <thead>\n",
       "    <tr style=\"text-align: right;\">\n",
       "      <th></th>\n",
       "      <th>senior_citizen</th>\n",
       "      <th>churn</th>\n",
       "      <th>churn_check</th>\n",
       "    </tr>\n",
       "  </thead>\n",
       "  <tbody>\n",
       "    <tr>\n",
       "      <th>0</th>\n",
       "      <td>0</td>\n",
       "      <td>No</td>\n",
       "      <td>False</td>\n",
       "    </tr>\n",
       "  </tbody>\n",
       "</table>\n",
       "</div>"
      ],
      "text/plain": [
       "   senior_citizen churn  churn_check\n",
       "0               0    No        False"
      ]
     },
     "execution_count": 134,
     "metadata": {},
     "output_type": "execute_result"
    }
   ],
   "source": [
    "test.head(1)"
   ]
  },
  {
   "cell_type": "code",
   "execution_count": 136,
   "id": "2a967269",
   "metadata": {},
   "outputs": [
    {
     "data": {
      "text/plain": [
       "0    5901\n",
       "1    1142\n",
       "Name: senior_citizen, dtype: int64"
      ]
     },
     "execution_count": 136,
     "metadata": {},
     "output_type": "execute_result"
    }
   ],
   "source": [
    "df[group1].value_counts()"
   ]
  },
  {
   "cell_type": "code",
   "execution_count": 137,
   "id": "e3751357",
   "metadata": {},
   "outputs": [
    {
     "data": {
      "text/html": [
       "<div>\n",
       "<style scoped>\n",
       "    .dataframe tbody tr th:only-of-type {\n",
       "        vertical-align: middle;\n",
       "    }\n",
       "\n",
       "    .dataframe tbody tr th {\n",
       "        vertical-align: top;\n",
       "    }\n",
       "\n",
       "    .dataframe thead th {\n",
       "        text-align: right;\n",
       "    }\n",
       "</style>\n",
       "<table border=\"1\" class=\"dataframe\">\n",
       "  <thead>\n",
       "    <tr style=\"text-align: right;\">\n",
       "      <th>churn</th>\n",
       "      <th>No</th>\n",
       "      <th>Yes</th>\n",
       "    </tr>\n",
       "    <tr>\n",
       "      <th>senior_citizen</th>\n",
       "      <th></th>\n",
       "      <th></th>\n",
       "    </tr>\n",
       "  </thead>\n",
       "  <tbody>\n",
       "    <tr>\n",
       "      <th>0</th>\n",
       "      <td>4508</td>\n",
       "      <td>1393</td>\n",
       "    </tr>\n",
       "    <tr>\n",
       "      <th>1</th>\n",
       "      <td>666</td>\n",
       "      <td>476</td>\n",
       "    </tr>\n",
       "  </tbody>\n",
       "</table>\n",
       "</div>"
      ],
      "text/plain": [
       "churn             No   Yes\n",
       "senior_citizen            \n",
       "0               4508  1393\n",
       "1                666   476"
      ]
     },
     "execution_count": 137,
     "metadata": {},
     "output_type": "execute_result"
    }
   ],
   "source": [
    "# crosstab senior_citizen and tech_support\n",
    "observed = pd.crosstab(df[group1], df[group2])\n",
    "observed"
   ]
  },
  {
   "cell_type": "code",
   "execution_count": 138,
   "id": "62185854",
   "metadata": {},
   "outputs": [],
   "source": [
    "# run chi2_contingency\n",
    "alpha = 0.05\n",
    "chi2, p, dof, expected = stats.chi2_contingency(observed)"
   ]
  },
  {
   "cell_type": "code",
   "execution_count": 139,
   "id": "0f05ff90",
   "metadata": {},
   "outputs": [],
   "source": [
    "observed_out = observed.values"
   ]
  },
  {
   "cell_type": "code",
   "execution_count": 140,
   "id": "2323dffa",
   "metadata": {},
   "outputs": [],
   "source": [
    "expected_out = expected.astype(int)"
   ]
  },
  {
   "cell_type": "code",
   "execution_count": 141,
   "id": "a236256d",
   "metadata": {},
   "outputs": [
    {
     "name": "stdout",
     "output_type": "stream",
     "text": [
      "Observed Values\n",
      "\n",
      "[[4508 1393]\n",
      " [ 666  476]]\n",
      "------\n",
      "Expected Values\n",
      "\n",
      "[[4335 1565]\n",
      " [ 838  303]]\n",
      "-----\n",
      "\n",
      "chi^2 =  159.4263\n",
      "p-value =  0.0000\n",
      "Is p-value < alpha? True\n"
     ]
    }
   ],
   "source": [
    "# print 'Observed Values' followed by a new line\n",
    "print('Observed Values\\n')\n",
    "\n",
    "# print the values from the 'observed' dataframe\n",
    "print(observed_out)\n",
    "\n",
    "# print --- and then a new line, 'Expected Values', followed by another new line\n",
    "print('------\\nExpected Values\\n')\n",
    "\n",
    "# print the expected values array\n",
    "print(expected_out)\n",
    "\n",
    "# print a new line\n",
    "print('-----\\n')\n",
    "\n",
    "# print the chi2 value, formatted to a float with 4 digits. \n",
    "print(f'chi^2 = {chi2: .4f}')\n",
    "\n",
    "# print the p-value, formatted to a float with 4 digits. \n",
    "print(f'p-value = {p: .4f}')\n",
    "print('Is p-value < alpha?', p < alpha)"
   ]
  },
  {
   "cell_type": "code",
   "execution_count": 142,
   "id": "4e7eb86b",
   "metadata": {},
   "outputs": [],
   "source": [
    "# set alpha\n",
    "alpha = 0.05\n",
    "\n",
    "# define eval_results function\n",
    "def eval_results(p, alpha, group1, group2):\n",
    "    '''\n",
    "    this function will take in the p-value, alpha, and a name for the 2 variables\n",
    "    you are comparing (group1 and group2) and return a string stating \n",
    "    whether or not there exists a relationship between the 2 groups. \n",
    "    '''\n",
    "    if p < alpha:\n",
    "        return f'There exists some relationship between {group1} and {group2}. (p-value: {p:.4f})'\n",
    "    else:\n",
    "        return f'There is not a significant relationship between {group1} and {group2}. (p-value: {p:.4f})'"
   ]
  },
  {
   "cell_type": "code",
   "execution_count": 143,
   "id": "060fb3ac",
   "metadata": {
    "scrolled": false
   },
   "outputs": [
    {
     "data": {
      "text/plain": [
       "'There exists some relationship between senior_citizen and churn. (p-value: 0.0000)'"
      ]
     },
     "execution_count": 143,
     "metadata": {},
     "output_type": "execute_result"
    }
   ],
   "source": [
    "eval_results(p, alpha, group1, group2)"
   ]
  },
  {
   "cell_type": "markdown",
   "id": "78489490",
   "metadata": {},
   "source": [
    "# B. Visualize"
   ]
  },
  {
   "cell_type": "code",
   "execution_count": 153,
   "id": "2fe6d300",
   "metadata": {},
   "outputs": [
    {
     "data": {
      "text/plain": [
       "<AxesSubplot: xlabel='churn', ylabel='count'>"
      ]
     },
     "execution_count": 153,
     "metadata": {},
     "output_type": "execute_result"
    },
    {
     "data": {
      "image/png": "[encoded data removed]",
      "text/plain": [
       "<Figure size 640x480 with 1 Axes>"
      ]
     },
     "metadata": {},
     "output_type": "display_data"
    }
   ],
   "source": [
    "sns.countplot(data=df, x=\"churn\", hue=\"senior_citizen\")"
   ]
  },
  {
   "cell_type": "code",
   "execution_count": 154,
   "id": "013023f0",
   "metadata": {},
   "outputs": [
    {
     "ename": "TypeError",
     "evalue": "numpy boolean subtract, the `-` operator, is not supported, use the bitwise_xor, the `^` operator, or the logical_xor function instead.",
     "output_type": "error",
     "traceback": [
      "\u001b[0;31m---------------------------------------------------------------------------\u001b[0m",
      "\u001b[0;31mTypeError\u001b[0m                                 Traceback (most recent call last)",
      "Cell \u001b[0;32mIn[154], line 1\u001b[0m\n\u001b[0;32m----> 1\u001b[0m \u001b[43mpd\u001b[49m\u001b[38;5;241;43m.\u001b[39;49m\u001b[43mplotting\u001b[49m\u001b[38;5;241;43m.\u001b[39;49m\u001b[43mscatter_matrix\u001b[49m\u001b[43m(\u001b[49m\u001b[43mdf\u001b[49m\u001b[43m)\u001b[49m\n\u001b[1;32m      2\u001b[0m plt\u001b[38;5;241m.\u001b[39mshow()\n",
      "File \u001b[0;32m/opt/homebrew/anaconda3/lib/python3.9/site-packages/pandas/plotting/_misc.py:144\u001b[0m, in \u001b[0;36mscatter_matrix\u001b[0;34m(frame, alpha, figsize, ax, grid, diagonal, marker, density_kwds, hist_kwds, range_padding, **kwargs)\u001b[0m\n\u001b[1;32m     85\u001b[0m \u001b[38;5;124;03m\"\"\"\u001b[39;00m\n\u001b[1;32m     86\u001b[0m \u001b[38;5;124;03mDraw a matrix of scatter plots.\u001b[39;00m\n\u001b[1;32m     87\u001b[0m \n\u001b[0;32m   (...)\u001b[0m\n\u001b[1;32m    141\u001b[0m \u001b[38;5;124;03m        <AxesSubplot:xlabel='D', ylabel='D'>]], dtype=object)\u001b[39;00m\n\u001b[1;32m    142\u001b[0m \u001b[38;5;124;03m\"\"\"\u001b[39;00m\n\u001b[1;32m    143\u001b[0m plot_backend \u001b[38;5;241m=\u001b[39m _get_plot_backend(\u001b[38;5;124m\"\u001b[39m\u001b[38;5;124mmatplotlib\u001b[39m\u001b[38;5;124m\"\u001b[39m)\n\u001b[0;32m--> 144\u001b[0m \u001b[38;5;28;01mreturn\u001b[39;00m \u001b[43mplot_backend\u001b[49m\u001b[38;5;241;43m.\u001b[39;49m\u001b[43mscatter_matrix\u001b[49m\u001b[43m(\u001b[49m\n\u001b[1;32m    145\u001b[0m \u001b[43m    \u001b[49m\u001b[43mframe\u001b[49m\u001b[38;5;241;43m=\u001b[39;49m\u001b[43mframe\u001b[49m\u001b[43m,\u001b[49m\n\u001b[1;32m    146\u001b[0m \u001b[43m    \u001b[49m\u001b[43malpha\u001b[49m\u001b[38;5;241;43m=\u001b[39;49m\u001b[43malpha\u001b[49m\u001b[43m,\u001b[49m\n\u001b[1;32m    147\u001b[0m \u001b[43m    \u001b[49m\u001b[43mfigsize\u001b[49m\u001b[38;5;241;43m=\u001b[39;49m\u001b[43mfigsize\u001b[49m\u001b[43m,\u001b[49m\n\u001b[1;32m    148\u001b[0m \u001b[43m    \u001b[49m\u001b[43max\u001b[49m\u001b[38;5;241;43m=\u001b[39;49m\u001b[43max\u001b[49m\u001b[43m,\u001b[49m\n\u001b[1;32m    149\u001b[0m \u001b[43m    \u001b[49m\u001b[43mgrid\u001b[49m\u001b[38;5;241;43m=\u001b[39;49m\u001b[43mgrid\u001b[49m\u001b[43m,\u001b[49m\n\u001b[1;32m    150\u001b[0m \u001b[43m    \u001b[49m\u001b[43mdiagonal\u001b[49m\u001b[38;5;241;43m=\u001b[39;49m\u001b[43mdiagonal\u001b[49m\u001b[43m,\u001b[49m\n\u001b[1;32m    151\u001b[0m \u001b[43m    \u001b[49m\u001b[43mmarker\u001b[49m\u001b[38;5;241;43m=\u001b[39;49m\u001b[43mmarker\u001b[49m\u001b[43m,\u001b[49m\n\u001b[1;32m    152\u001b[0m \u001b[43m    \u001b[49m\u001b[43mdensity_kwds\u001b[49m\u001b[38;5;241;43m=\u001b[39;49m\u001b[43mdensity_kwds\u001b[49m\u001b[43m,\u001b[49m\n\u001b[1;32m    153\u001b[0m \u001b[43m    \u001b[49m\u001b[43mhist_kwds\u001b[49m\u001b[38;5;241;43m=\u001b[39;49m\u001b[43mhist_kwds\u001b[49m\u001b[43m,\u001b[49m\n\u001b[1;32m    154\u001b[0m \u001b[43m    \u001b[49m\u001b[43mrange_padding\u001b[49m\u001b[38;5;241;43m=\u001b[39;49m\u001b[43mrange_padding\u001b[49m\u001b[43m,\u001b[49m\n\u001b[1;32m    155\u001b[0m \u001b[43m    \u001b[49m\u001b[38;5;241;43m*\u001b[39;49m\u001b[38;5;241;43m*\u001b[39;49m\u001b[43mkwargs\u001b[49m\u001b[43m,\u001b[49m\n\u001b[1;32m    156\u001b[0m \u001b[43m\u001b[49m\u001b[43m)\u001b[49m\n",
      "File \u001b[0;32m/opt/homebrew/anaconda3/lib/python3.9/site-packages/pandas/plotting/_matplotlib/misc.py:69\u001b[0m, in \u001b[0;36mscatter_matrix\u001b[0;34m(frame, alpha, figsize, ax, grid, diagonal, marker, density_kwds, hist_kwds, range_padding, **kwds)\u001b[0m\n\u001b[1;32m     67\u001b[0m     values \u001b[38;5;241m=\u001b[39m df[a]\u001b[38;5;241m.\u001b[39mvalues[mask[a]\u001b[38;5;241m.\u001b[39mvalues]\n\u001b[1;32m     68\u001b[0m     rmin_, rmax_ \u001b[38;5;241m=\u001b[39m np\u001b[38;5;241m.\u001b[39mmin(values), np\u001b[38;5;241m.\u001b[39mmax(values)\n\u001b[0;32m---> 69\u001b[0m     rdelta_ext \u001b[38;5;241m=\u001b[39m (\u001b[43mrmax_\u001b[49m\u001b[43m \u001b[49m\u001b[38;5;241;43m-\u001b[39;49m\u001b[43m \u001b[49m\u001b[43mrmin_\u001b[49m) \u001b[38;5;241m*\u001b[39m range_padding \u001b[38;5;241m/\u001b[39m \u001b[38;5;241m2\u001b[39m\n\u001b[1;32m     70\u001b[0m     boundaries_list\u001b[38;5;241m.\u001b[39mappend((rmin_ \u001b[38;5;241m-\u001b[39m rdelta_ext, rmax_ \u001b[38;5;241m+\u001b[39m rdelta_ext))\n\u001b[1;32m     72\u001b[0m \u001b[38;5;28;01mfor\u001b[39;00m i, a \u001b[38;5;129;01min\u001b[39;00m \u001b[38;5;28menumerate\u001b[39m(df\u001b[38;5;241m.\u001b[39mcolumns):\n",
      "\u001b[0;31mTypeError\u001b[0m: numpy boolean subtract, the `-` operator, is not supported, use the bitwise_xor, the `^` operator, or the logical_xor function instead."
     ]
    },
    {
     "data": {
      "image/png": "[encoded data removed]",
      "text/plain": [
       "<Figure size 640x480 with 36 Axes>"
      ]
     },
     "metadata": {},
     "output_type": "display_data"
    }
   ],
   "source": [
    "pd.plotting.scatter_matrix(df)\n",
    "plt.show()"
   ]
  }
 ],
 "metadata": {
  "kernelspec": {
   "display_name": "Python 3 (ipykernel)",
   "language": "python",
   "name": "python3"
  },
  "language_info": {
   "codemirror_mode": {
    "name": "ipython",
    "version": 3
   },
   "file_extension": ".py",
   "mimetype": "text/x-python",
   "name": "python",
   "nbconvert_exporter": "python",
   "pygments_lexer": "ipython3",
   "version": "3.9.15"
  }
 },
 "nbformat": 4,
 "nbformat_minor": 5
}
