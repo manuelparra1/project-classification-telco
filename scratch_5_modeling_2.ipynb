{
 "cells": [
  {
   "cell_type": "code",
   "execution_count": 1,
   "id": "00b9a7c3",
   "metadata": {},
   "outputs": [],
   "source": [
    "import numpy as np\n",
    "import pandas as pd\n",
    "\n",
    "import acquire"
   ]
  },
  {
   "cell_type": "code",
   "execution_count": 2,
   "id": "2602bc17",
   "metadata": {},
   "outputs": [],
   "source": [
    "df = acquire.get_telco_data()"
   ]
  },
  {
   "cell_type": "markdown",
   "id": "ba950a93",
   "metadata": {},
   "source": [
    "# Prepare"
   ]
  },
  {
   "cell_type": "code",
   "execution_count": null,
   "id": "1c39eb98",
   "metadata": {},
   "outputs": [],
   "source": [
    "# Prepare.py\n",
    "\n",
    "# 1. - Explore -\n",
    "# clean()\n",
    "\n",
    "# 2. - Prepare -\n",
    "# train_val_test()\n",
    "\n",
    "# 3. - Model - \n",
    "# model_telco_data()"
   ]
  },
  {
   "cell_type": "code",
   "execution_count": null,
   "id": "43d5b103",
   "metadata": {},
   "outputs": [],
   "source": [
    "# Dropped Redundant Columns\n",
    "df = df.drop(['payment_type_id','internet_service_type_id','contract_type_id'],axis=1)"
   ]
  },
  {
   "cell_type": "code",
   "execution_count": null,
   "id": "563dfaeb",
   "metadata": {},
   "outputs": [],
   "source": [
    "# Fix incoming dataframe column with numerical values set as string type\n",
    "df['total_charges'] = (df.total_charges + '0').astype('float')"
   ]
  },
  {
   "cell_type": "code",
   "execution_count": null,
   "id": "3acff7b4",
   "metadata": {},
   "outputs": [],
   "source": [
    "df = df.drop(['churn_month'],axis=1)"
   ]
  },
  {
   "cell_type": "code",
   "execution_count": null,
   "id": "2bdfdf43",
   "metadata": {},
   "outputs": [],
   "source": [
    "# Removed Duplicate Columns\n",
    "df = df.loc[:,~df.columns.duplicated()].copy()"
   ]
  },
  {
   "cell_type": "code",
   "execution_count": null,
   "id": "3e45f9dd",
   "metadata": {},
   "outputs": [],
   "source": [
    "# Isolate Categorical Columns\n",
    "categorical_columns = df.drop(columns = 'customer_id').select_dtypes(include=object).columns.to_list()"
   ]
  },
  {
   "cell_type": "code",
   "execution_count": null,
   "id": "b5c0e309",
   "metadata": {},
   "outputs": [],
   "source": [
    "# Bivariate Features\n",
    "bivariate_features = []\n",
    "\n",
    "for i in range(len(categorical_columns)):\n",
    "        if len(df[categorical_columns[i]].value_counts()) == 2:\n",
    "            categorical_columns_binary.append(categorical_columns[i])"
   ]
  },
  {
   "cell_type": "code",
   "execution_count": null,
   "id": "cfb7e687",
   "metadata": {},
   "outputs": [],
   "source": [
    "# Multivariate Features\n",
    "multivariate_features = []\n",
    "for i in range(len(categorical_columns)):\n",
    "        if len(df[categorical_columns[i]].value_counts()) > 2:\n",
    "            categorical_columns_not_binary.append(categorical_columns[i])"
   ]
  },
  {
   "cell_type": "code",
   "execution_count": null,
   "id": "18e48a7d",
   "metadata": {},
   "outputs": [],
   "source": [
    "# Dummies - Bivariate\n",
    "bivariate_features_dummies = pd.get_dummies(df[categorical_columns_binary],drop_first=True)"
   ]
  },
  {
   "cell_type": "code",
   "execution_count": null,
   "id": "b826cf6e",
   "metadata": {},
   "outputs": [],
   "source": [
    "# Dummies - Multivariate\n",
    "multivariate_features_dummies = pd.get_dummies(df[categorical_columns_not_binary],drop_first=True)"
   ]
  },
  {
   "cell_type": "code",
   "execution_count": null,
   "id": "1394b63a",
   "metadata": {},
   "outputs": [],
   "source": [
    "# Combine all\n",
    "df = pd.concat([df, categorical_columns_binary_dummies], axis=1)\n",
    "df = pd.concat([df, categorical_columns_not_binary_dummies], axis=1)"
   ]
  },
  {
   "cell_type": "markdown",
   "id": "39a8dc1d",
   "metadata": {},
   "source": [
    "# Final Function"
   ]
  },
  {
   "cell_type": "code",
   "execution_count": null,
   "id": "70770987",
   "metadata": {},
   "outputs": [],
   "source": [
    "def clean_telco_data(df):\n",
    "    \n",
    "    return df"
   ]
  },
  {
   "cell_type": "code",
   "execution_count": null,
   "id": "4ccdb036",
   "metadata": {},
   "outputs": [],
   "source": [
    "def split_telco_data(df, target='churn', seed=123):\n",
    "    train_validate, test = train_test_split(df, test_size=0.2, \n",
    "                                            random_state=seed, \n",
    "                                            stratify=df[target])\n",
    "    train, validate = train_test_split(train_validate, test_size=0.3, \n",
    "                                       random_state=seed,\n",
    "                                       stratify=train_validate[target])\n",
    "    \n",
    "    return train, validate, test"
   ]
  },
  {
   "cell_type": "code",
   "execution_count": null,
   "id": "b5e27eb0",
   "metadata": {},
   "outputs": [],
   "source": [
    "def model_telco_data(df,target='churn'):\n",
    "    target='churn'\n",
    "    \n",
    "    X_df = df.drop(columns=target)\n",
    "    y_df = df.[target]\n",
    "\n",
    "    return X_train,y_t"
   ]
  },
  {
   "cell_type": "markdown",
   "id": "436b2a2a",
   "metadata": {},
   "source": [
    "# Model"
   ]
  },
  {
   "cell_type": "code",
   "execution_count": null,
   "id": "f87ca5ae",
   "metadata": {},
   "outputs": [],
   "source": [
    "X_train, y_train = model_telco_data(df)\n",
    "X_test, y_test = model_telco_data(df)\n",
    "X_validate, y_validate = model_telco_data(df)"
   ]
  }
 ],
 "metadata": {
  "kernelspec": {
   "display_name": "Python 3 (ipykernel)",
   "language": "python",
   "name": "python3"
  },
  "language_info": {
   "codemirror_mode": {
    "name": "ipython",
    "version": 3
   },
   "file_extension": ".py",
   "mimetype": "text/x-python",
   "name": "python",
   "nbconvert_exporter": "python",
   "pygments_lexer": "ipython3",
   "version": "3.9.15"
  }
 },
 "nbformat": 4,
 "nbformat_minor": 5
}
