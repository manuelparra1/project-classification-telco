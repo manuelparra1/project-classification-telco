{
 "cells": [
  {
   "cell_type": "code",
   "execution_count": 1,
   "id": "ac5273c7",
   "metadata": {},
   "outputs": [],
   "source": [
    "import acquire"
   ]
  },
  {
   "cell_type": "code",
   "execution_count": 2,
   "id": "48581bb0",
   "metadata": {},
   "outputs": [],
   "source": [
    "df = acquire.get_telco_data()"
   ]
  },
  {
   "cell_type": "markdown",
   "id": "23b91640",
   "metadata": {},
   "source": [
    "# SQL Query"
   ]
  },
  {
   "cell_type": "markdown",
   "id": "8f53fe6a",
   "metadata": {},
   "source": [
    "```sql\n",
    "SELECT\n",
    "    *\n",
    "FROM\n",
    "    customers AS c\n",
    "    LEFT JOIN internet_service_types AS ist USING (internet_service_type_id)\n",
    "    LEFT JOIN customer_subscriptions AS csb USING (customer_id)\n",
    "    LEFT JOIN payment_types AS pt USING (payment_type_id)\n",
    "    LEFT JOIN contract_types AS ct USING (contract_type_id)\n",
    "    LEFT JOIN customer_churn AS ccr USING (customer_id)\n",
    "    LEFT JOIN customer_contracts AS ccn USING (customer_id)\n",
    "    LEFT JOIN customer_details AS cd USING (customer_id)\n",
    "    LEFT JOIN customer_payments AS cp USING (customer_id)\n",
    "    LEFT JOIN customer_signups AS cs USING (customer_id);\n",
    "```"
   ]
  },
  {
   "cell_type": "code",
   "execution_count": 4,
   "id": "da16838a",
   "metadata": {},
   "outputs": [],
   "source": [
    "column_names = df.columns.tolist()"
   ]
  },
  {
   "cell_type": "code",
   "execution_count": 5,
   "id": "41538ef1",
   "metadata": {},
   "outputs": [
    {
     "name": "stdout",
     "output_type": "stream",
     "text": [
      "customer_id\n",
      "contract_type_id\n",
      "payment_type_id\n",
      "internet_service_type_id\n",
      "gender\n",
      "senior_citizen\n",
      "partner\n",
      "dependents\n",
      "tenure\n",
      "phone_service\n",
      "multiple_lines\n",
      "online_security\n",
      "online_backup\n",
      "device_protection\n",
      "tech_support\n",
      "streaming_tv\n",
      "streaming_movies\n",
      "paperless_billing\n",
      "monthly_charges\n",
      "total_charges\n",
      "churn\n",
      "internet_service_type\n",
      "phone_service\n",
      "multiple_lines\n",
      "internet_service_type_id\n",
      "online_security\n",
      "online_backup\n",
      "device_protection\n",
      "tech_support\n",
      "streaming_tv\n",
      "streaming_movies\n",
      "payment_type\n",
      "contract_type\n",
      "churn_month\n",
      "contract_type_id\n",
      "paperless_billing\n",
      "gender\n",
      "senior_citizen\n",
      "partner\n",
      "dependents\n",
      "payment_type_id\n",
      "monthly_charges\n",
      "total_charges\n",
      "signup_date\n"
     ]
    }
   ],
   "source": [
    "for _ in column_names:\n",
    "    print(_)"
   ]
  },
  {
   "cell_type": "code",
   "execution_count": 6,
   "id": "c000a7af",
   "metadata": {},
   "outputs": [],
   "source": [
    "df = df.drop(['payment_type_id','internet_service_type_id','contract_type_id'],axis=1)"
   ]
  },
  {
   "cell_type": "code",
   "execution_count": 7,
   "id": "88410180",
   "metadata": {},
   "outputs": [
    {
     "data": {
      "text/plain": [
       "True"
      ]
     },
     "execution_count": 7,
     "metadata": {},
     "output_type": "execute_result"
    }
   ],
   "source": [
    "# First column should be `customer_id` after dropping other redudant columns\n",
    "df.columns.tolist()[0] == 'customer_id'"
   ]
  },
  {
   "cell_type": "code",
   "execution_count": 20,
   "id": "851d908f",
   "metadata": {},
   "outputs": [
    {
     "data": {
      "text/plain": [
       "38"
      ]
     },
     "execution_count": 20,
     "metadata": {},
     "output_type": "execute_result"
    }
   ],
   "source": [
    "# Total Columns\n",
    "df.shape[1]"
   ]
  },
  {
   "cell_type": "code",
   "execution_count": null,
   "id": "8eb08c96",
   "metadata": {},
   "outputs": [],
   "source": []
  }
 ],
 "metadata": {
  "kernelspec": {
   "display_name": "Python 3 (ipykernel)",
   "language": "python",
   "name": "python3"
  },
  "language_info": {
   "codemirror_mode": {
    "name": "ipython",
    "version": 3
   },
   "file_extension": ".py",
   "mimetype": "text/x-python",
   "name": "python",
   "nbconvert_exporter": "python",
   "pygments_lexer": "ipython3",
   "version": "3.9.15"
  }
 },
 "nbformat": 4,
 "nbformat_minor": 5
}
