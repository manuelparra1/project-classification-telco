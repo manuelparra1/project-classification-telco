{
 "cells": [
  {
   "cell_type": "markdown",
   "id": "ca5697be",
   "metadata": {},
   "source": [
    "# Telco Customer Churn"
   ]
  },
  {
   "cell_type": "markdown",
   "id": "37cf319b",
   "metadata": {},
   "source": [
    "# Project Description"
   ]
  },
  {
   "cell_type": "markdown",
   "id": "42ab168b",
   "metadata": {},
   "source": [
    "The Telco company has been losing customers and does not know why.  Using the account information for each customer. I will compare different services that each customer pays for. A service or customer data could potentially increase or decrease the chance that a customer will churn."
   ]
  },
  {
   "cell_type": "markdown",
   "id": "435fbb5c",
   "metadata": {},
   "source": [
    "# Project Goal"
   ]
  },
  {
   "cell_type": "markdown",
   "id": "1d57f994",
   "metadata": {},
   "source": [
    "* Find drivers of churn\n",
    "* User drivers to create ML models"
   ]
  },
  {
   "cell_type": "markdown",
   "id": "a0166fb2",
   "metadata": {},
   "source": [
    "# Initial Thoughts"
   ]
  },
  {
   "cell_type": "markdown",
   "id": "acfec098",
   "metadata": {},
   "source": [
    "My initial hypothesis is that drivers of churn will be descriptions of customers that isolate them in groups with higher likelihood of leaving the company."
   ]
  },
  {
   "cell_type": "markdown",
   "id": "e88b86d2",
   "metadata": {},
   "source": [
    "# The Plan"
   ]
  },
  {
   "cell_type": "markdown",
   "id": "9454b8c6",
   "metadata": {},
   "source": [
    "* Aquire data from SQL database\n",
    " \n",
    "* Prepare data\n",
    "   * Left Join additional customer info to `customers` table\n",
    "   * Drop redundant columns in dataframe using Pandas\n",
    " \n",
    "* Explore data in search of drivers of upsets\n",
    "   * Answer the following initial questions\n",
    "       * How often does churn occur?\n",
    "       * Does gender & total charge affect churn?\n",
    "       * Does join date affect churn?\n",
    "       * Does total addons affect churn?\n",
    "       * Does total deviation from average of `total_charges` affect churn?\n",
    "       * Does having tech support and  being a senior citizen effect churn?\n",
    "       * Does being a senior citizen affect churn?\n",
    "       * Is tenure important driving churn?\n",
    "       * Is paperless_billing, payment_type related?\n",
    "       * Does having `dependents` & `multiple_lines` correlate to churn?\n",
    "\n",
    "* Develop a Model to predict churn\n",
    "   * Use drivers identified in _**explore**_ to build predictive models of different types\n",
    "   * Evaluate models on train and validate data\n",
    "   * Select the best model based on highest accuracy\n",
    "   * Evaluate the best model on test data\n",
    " \n",
    "* Draw conclusions"
   ]
  },
  {
   "cell_type": "markdown",
   "id": "8171b17b",
   "metadata": {},
   "source": [
    "# Data Dictionary\n",
    "| Feature | Definition |\n",
    "|:--------|:-----------|\n",
    "|customer_id| unique indentifier |\n",
    "|gender| customer gender |\n",
    "|senior_citizen| customer age status |\n",
    "|dependents| customer total number of dependents |\n",
    "|tenure| customer length of contract |\n",
    "|phone_service| customer phone service status |\n",
    "|multiple_lines| customer additional phone lines |\n",
    "|online_security| does customer have online security |\n",
    "|online_backup| does customer have online backup |\n",
    "|device_protection| does customer have device protection |\n",
    "|tech_support| does customer have tech suport |\n",
    "|streaming_tv| does customer have streaming tv addon service |\n",
    "|streaming_movies| does customer have streaming movies addon service |\n",
    "|paperless_billing| does customer have paperless billing feature |\n",
    "|monthly_charges| what customer pays every month |\n",
    "|total_charges| sum of all monthly charges in tenure |\n",
    "|churn| If customer left the company `churn` = 1, otherwise = 0 |\n",
    "|internet_service_type| does customer have internet service |\n",
    "|payment_type| customer form of payment for service |\n",
    "|contract_type| does customer have monthly or annual contract |\n",
    "| addon_sum | total count of additional service besides phone and internet|"
   ]
  },
  {
   "cell_type": "markdown",
   "id": "b15da256",
   "metadata": {},
   "source": [
    "# Steps to Reproduce\n",
    "1) Clone this repo.\n",
    "2) Acquire the data from Codeup SQL Database\n",
    "3) Put the data in the file containing the cloned repo.\n",
    "4) Run notebook."
   ]
  },
  {
   "cell_type": "markdown",
   "id": "33c4d449",
   "metadata": {},
   "source": [
    "# Takeaways and Conclusions\n",
    "* churn makes up 26.54% of the data \n",
    "* by guessing not churn for every customer one could achieve an accuracy of 73.46%\n",
    "* 73.46% was the baseline accuracy\n",
    "* Total churn = 1869 out of 7043 customers.\n",
    "<br>\n",
    "\n",
    "* Out of the Random Forest, KNN, and Logistic Regression models Random Forest performed higher than baseline on train and validate\n",
    "* The Logistic Regression model performed slightly better on validate data but was worse than baseline on either one."
   ]
  },
  {
   "cell_type": "markdown",
   "id": "fef30603",
   "metadata": {},
   "source": [
    "# Recommendations\n",
    "* For loop chi square all categorical features against churn, and sort each feature by accuracy\n",
    "* Explore further numerical features\n",
    "* Look for other ways to calculate \"Total Charges\" Such as standard deviation from the mean and compare against churn"
   ]
  }
 ],
 "metadata": {
  "kernelspec": {
   "display_name": "Python 3 (ipykernel)",
   "language": "python",
   "name": "python3"
  },
  "language_info": {
   "codemirror_mode": {
    "name": "ipython",
    "version": 3
   },
   "file_extension": ".py",
   "mimetype": "text/x-python",
   "name": "python",
   "nbconvert_exporter": "python",
   "pygments_lexer": "ipython3",
   "version": "3.9.15"
  }
 },
 "nbformat": 4,
 "nbformat_minor": 5
}
