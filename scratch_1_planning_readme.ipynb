{
 "cells": [
  {
   "cell_type": "markdown",
   "id": "ca5697be",
   "metadata": {},
   "source": [
    "# Telco Customer Churn"
   ]
  },
  {
   "cell_type": "markdown",
   "id": "37cf319b",
   "metadata": {},
   "source": [
    "# Project Description"
   ]
  },
  {
   "cell_type": "markdown",
   "id": "42ab168b",
   "metadata": {},
   "source": [
    "The Telco company has been losing customers and does not know why.  Using the account information for each customer. I will compare different services that each customer pays for. A service or customer data could potentially increase or decrease the chance that a customer will churn."
   ]
  },
  {
   "cell_type": "markdown",
   "id": "435fbb5c",
   "metadata": {},
   "source": [
    "# Project Goal"
   ]
  },
  {
   "cell_type": "markdown",
   "id": "1d57f994",
   "metadata": {},
   "source": [
    "* Find drivers of churn\n",
    "* User drivers to create ML models"
   ]
  },
  {
   "cell_type": "markdown",
   "id": "a0166fb2",
   "metadata": {},
   "source": [
    "# Initial Thoughts"
   ]
  },
  {
   "cell_type": "markdown",
   "id": "acfec098",
   "metadata": {},
   "source": [
    "My initial hypothesis is that drivers of churn will be descriptions of customers that isolate them in groups with higher likelihood of leaving the company."
   ]
  },
  {
   "cell_type": "markdown",
   "id": "e88b86d2",
   "metadata": {},
   "source": [
    "# The Plan"
   ]
  },
  {
   "cell_type": "markdown",
   "id": "68f9d1aa",
   "metadata": {},
   "source": [
    "* Aquire data from SQL database"
   ]
  },
  {
   "cell_type": "markdown",
   "id": "9454b8c6",
   "metadata": {},
   "source": [
    "* Aquire data from SQL database\n",
    " \n",
    "* Prepare data\n",
    "   * Left Join additional customer info to `customers` table\n",
    "   * Drop redundant columns in dataframe using Pandas\n",
    " \n",
    "* Explore data in search of drivers of upsets\n",
    "   * Answer the following initial questions\n",
    "       * How often does churn occur?\n",
    "       * Does gender & total charge affect churn?\n",
    "       * Does join date affect churn?\n",
    "       * Does total addons affect churn?\n",
    "       * Does total deviation from average of `total_charges` affect churn?\n",
    "       * Does having tech support and  being a senior citizen effect churn?\n",
    "       * Does being a senior citizen affect churn?\n",
    "       * Is tenure important driving churn?\n",
    "       * Is paperless_billing, payment_type related?\n",
    "       * Does having `dependents` & `multiple_lines` correlate to churn?\n",
    "\n",
    "* Develop a Model to predict churn\n",
    "   * Use drivers identified in _**explore**_ to build predictive models of different types\n",
    "   * Evaluate models on train and validate data\n",
    "   * Select the best model based on highest accuracy\n",
    "   * Evaluate the best model on test data\n",
    " \n",
    "* Draw conclusions"
   ]
  },
  {
   "cell_type": "markdown",
   "id": "8171b17b",
   "metadata": {},
   "source": [
    "# Data Dictionary\n",
    "| Feature | Definition |\n",
    "|:--------|:-----------|\n",
    "|Churn| Customer leaving the company|\n",
    "| Total Addons | Number of additional service besides phone and internet|\n"
   ]
  },
  {
   "cell_type": "markdown",
   "id": "b15da256",
   "metadata": {},
   "source": [
    "# Steps to Reproduce\n",
    "1) Clone this repo.\n",
    "2) Acquire the data from Codeup SQL Database\n",
    "3) Put the data in the file containing the cloned repo.\n",
    "4) Run notebook."
   ]
  },
  {
   "cell_type": "markdown",
   "id": "33c4d449",
   "metadata": {},
   "source": [
    "# Takeaways and Conclusions\n",
    "* Upsets occur in 1/3 of games\n",
    "* In games where the lower rated player moves first there is a 4% greater chance of an upset\n",
    "* Games that are rated have a 3% higher chance of an upset\n",
    "* Games with a \"quick\" time control (30 min or less) have about a 1 in 3 chance of upset\n",
    "* Games with a \"slow\" time control (60 min or more) have about a 1 in 5 chance of upset\n",
    "* The mean rating of players in a game is not a driver of upsets\n",
    "* The difference in player rating is a driver of upsets\n",
    "* A player's choice of opening is a driver of upsets, however its influence is complicated and I would need more time to discover what role it plays"
   ]
  },
  {
   "cell_type": "markdown",
   "id": "fef30603",
   "metadata": {},
   "source": [
    "# Recommendations\n",
    "* To increase the skill intensity of a game add to the length of time players are able to consider their moves\n",
    "* Based on the data longer time controls make it less likely for a less skilled player to beat a more skilled player"
   ]
  },
  {
   "cell_type": "markdown",
   "id": "3fd24099",
   "metadata": {},
   "source": [
    "---"
   ]
  },
  {
   "cell_type": "markdown",
   "id": "820d4489",
   "metadata": {},
   "source": [
    "# All columns:\n",
    "\n",
    "```python\n",
    "gender\n",
    "senior_citizen\n",
    "partner\n",
    "dependents\n",
    "tenure\n",
    "phone_service\n",
    "multiple_lines\n",
    "```\n",
    "```python\n",
    "online_security\n",
    "online_backup\n",
    "device_protection\n",
    "tech_support\n",
    "streaming_tv\n",
    "streaming_movies\n",
    "```\n",
    "```python\n",
    "monthly_charges\n",
    "total_charges\n",
    "contract_type\n",
    "internet_service_type\n",
    "```\n",
    "```python\n",
    "payment_type\n",
    "paperless_billing\n",
    "```\n",
    "```python\n",
    "churn\n",
    "```"
   ]
  }
 ],
 "metadata": {
  "kernelspec": {
   "display_name": "Python 3 (ipykernel)",
   "language": "python",
   "name": "python3"
  },
  "language_info": {
   "codemirror_mode": {
    "name": "ipython",
    "version": 3
   },
   "file_extension": ".py",
   "mimetype": "text/x-python",
   "name": "python",
   "nbconvert_exporter": "python",
   "pygments_lexer": "ipython3",
   "version": "3.9.15"
  }
 },
 "nbformat": 4,
 "nbformat_minor": 5
}
