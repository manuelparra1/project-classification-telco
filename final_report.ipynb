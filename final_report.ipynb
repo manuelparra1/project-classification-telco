{
 "cells": [
  {
   "cell_type": "code",
   "execution_count": 118,
   "id": "64e806c3",
   "metadata": {},
   "outputs": [
    {
     "data": {
      "text/html": [
       "<script>\n",
       "code_show=true; \n",
       "function code_toggle() {\n",
       " if (code_show){\n",
       " $('div.input').hide();\n",
       " } else {\n",
       " $('div.input').show();\n",
       " }\n",
       " code_show = !code_show\n",
       "} \n",
       "$( document ).ready(code_toggle);\n",
       "</script>\n",
       "<form action=\"javascript:code_toggle()\"><input type=\"submit\" value=\"Raw Code\"></form>"
      ],
      "text/plain": [
       "<IPython.core.display.HTML object>"
      ]
     },
     "execution_count": 118,
     "metadata": {},
     "output_type": "execute_result"
    }
   ],
   "source": [
    "from IPython.display import HTML\n",
    "\n",
    "HTML('''<script>\n",
    "code_show=true; \n",
    "function code_toggle() {\n",
    " if (code_show){\n",
    " $('div.input').hide();\n",
    " } else {\n",
    " $('div.input').show();\n",
    " }\n",
    " code_show = !code_show\n",
    "} \n",
    "$( document ).ready(code_toggle);\n",
    "</script>\n",
    "<form action=\"javascript:code_toggle()\"><input type=\"submit\" value=\"Raw Code\"></form>''')"
   ]
  },
  {
   "cell_type": "markdown",
   "id": "passive-collect",
   "metadata": {},
   "source": [
    "# Telco Churn"
   ]
  },
  {
   "cell_type": "markdown",
   "id": "typical-anime",
   "metadata": {},
   "source": [
    "## Goal: \n",
    "* Discover drivers of churn in the Telco data\n",
    "* Use significant drivers to develop a machine learning model "
   ]
  },
  {
   "cell_type": "markdown",
   "id": "recognized-insertion",
   "metadata": {},
   "source": [
    "## Imports\n",
    "- Pandas, Numpy\n",
    "- Matplotlib & Seaborn\n",
    "- Scipy & Scikit Learn\n",
    "- `acquire` `prepare`"
   ]
  },
  {
   "cell_type": "code",
   "execution_count": 1,
   "id": "following-steam",
   "metadata": {},
   "outputs": [],
   "source": [
    "import pandas as pd\n",
    "import numpy as np\n",
    "\n",
    "import matplotlib.pyplot as plt\n",
    "import seaborn as sns\n",
    "import os\n",
    "\n",
    "from scipy import stats\n",
    "\n",
    "from sklearn.model_selection import train_test_split\n",
    "\n",
    "from sklearn.ensemble import RandomForestClassifier\n",
    "from sklearn.tree import DecisionTreeClassifier, plot_tree\n",
    "from sklearn.neighbors import KNeighborsClassifier\n",
    "from sklearn.linear_model import LogisticRegression\n",
    "\n",
    "from sklearn.metrics import confusion_matrix\n",
    "from sklearn.metrics import classification_report\n",
    "\n",
    "\n",
    "import warnings\n",
    "warnings.filterwarnings(\"ignore\")\n",
    "\n",
    "import acquire\n",
    "import prepare\n",
    "import model"
   ]
  },
  {
   "cell_type": "markdown",
   "id": "further-swimming",
   "metadata": {},
   "source": [
    "## Acquire\n",
    "\n",
    "* Data was acquired using Pandas from the Codeup SQL Database\n",
    "* Left Joined all tables for most amount of information\n",
    "* It contained 7043 rows and 44 columns before cleaning\n",
    "* Each row represents a customer\n",
    "* Each column represents a feature of those customers"
   ]
  },
  {
   "cell_type": "markdown",
   "id": "strategic-steering",
   "metadata": {},
   "source": [
    "## Prepare\n",
    "\n",
    "**Prepare Actions:**\n",
    "* Removed columns that did not contain useful information\n",
    "* Removed duplicate columns due to larger SQL Query\n",
    "* Checked for nulls in the data (there were none)\n",
    "* Checked that column data types were appropriate\n",
    "* Fixed incorrect dtatypes\n",
    "* Added additional features to investigate:\n",
    "    * Total Add-on Count\n",
    "* Encoded categorical bi-variate\n",
    "* Created dummy variables for the multi-variate features\n",
    "* Split data into train, validate and test (approx. 70/20/10), stratifying on 'churn'"
   ]
  },
  {
   "cell_type": "markdown",
   "id": "53249c35",
   "metadata": {},
   "source": [
    "### Data Dictionary"
   ]
  },
  {
   "cell_type": "code",
   "execution_count": 2,
   "id": "b9f2135e",
   "metadata": {},
   "outputs": [
    {
     "data": {
      "text/html": [
       "<style>\n",
       "table {float:left}\n",
       "</style>\n"
      ],
      "text/plain": [
       "<IPython.core.display.HTML object>"
      ]
     },
     "metadata": {},
     "output_type": "display_data"
    }
   ],
   "source": [
    "%%html\n",
    "<style>\n",
    "table {float:left}\n",
    "</style>"
   ]
  },
  {
   "cell_type": "markdown",
   "id": "purple-plymouth",
   "metadata": {},
   "source": [
    "| Feature | Definition |\n",
    "|:--------|:-----------|\n",
    "|customer_id| unique indentifier |\n",
    "|gender| customer gender |\n",
    "|senior_citizen| customer age status |\n",
    "|dependents| customer total number of dependents |\n",
    "|tenure| customer length of contract |\n",
    "|phone_service| customer phone service status |\n",
    "|multiple_lines| customer additional phone lines |\n",
    "|online_security| does customer have online security |\n",
    "|online_backup| does customer have online backup |\n",
    "|device_protection| does customer have device protection |\n",
    "|tech_support| does customer have tech suport |\n",
    "|streaming_tv| does customer have streaming tv addon service |\n",
    "|streaming_movies| does customer have streaming movies addon service |\n",
    "|paperless_billing| does customer have paperless billing feature |\n",
    "|monthly_charges| what customer pays every month |\n",
    "|total_charges| sum of all monthly charges in tenure |\n",
    "|churn| If customer left the company `churn` = 1, otherwise = 0 |\n",
    "|internet_service_type| does customer have internet service |\n",
    "|payment_type| customer form of payment for service |\n",
    "|contract_type| does customer have monthly or annual contract |\n",
    "| addon_sum | total count of additional service besides phone and internet|"
   ]
  },
  {
   "cell_type": "code",
   "execution_count": 3,
   "id": "pressing-legislation",
   "metadata": {
    "scrolled": false
   },
   "outputs": [],
   "source": [
    "# acquiring, cleaning, and adding features to data\n",
    "df = acquire.get_telco_data()\n",
    "df = prepare.clean_telco_data(df)\n",
    "\n",
    "# splitting data into train, validate, and test\n",
    "train, validate, test = prepare.split_telco_data(df)"
   ]
  },
  {
   "cell_type": "markdown",
   "id": "tutorial-continuity",
   "metadata": {},
   "source": [
    "### A brief look at the data"
   ]
  },
  {
   "cell_type": "code",
   "execution_count": 4,
   "id": "clear-junior",
   "metadata": {
    "scrolled": true
   },
   "outputs": [
    {
     "data": {
      "text/html": [
       "<div>\n",
       "<style scoped>\n",
       "    .dataframe tbody tr th:only-of-type {\n",
       "        vertical-align: middle;\n",
       "    }\n",
       "\n",
       "    .dataframe tbody tr th {\n",
       "        vertical-align: top;\n",
       "    }\n",
       "\n",
       "    .dataframe thead th {\n",
       "        text-align: right;\n",
       "    }\n",
       "</style>\n",
       "<table border=\"1\" class=\"dataframe\">\n",
       "  <thead>\n",
       "    <tr style=\"text-align: right;\">\n",
       "      <th></th>\n",
       "      <th>customer_id</th>\n",
       "      <th>gender</th>\n",
       "      <th>senior_citizen</th>\n",
       "      <th>partner</th>\n",
       "      <th>dependents</th>\n",
       "      <th>tenure</th>\n",
       "      <th>phone_service</th>\n",
       "      <th>multiple_lines</th>\n",
       "      <th>online_security</th>\n",
       "      <th>online_backup</th>\n",
       "      <th>...</th>\n",
       "      <th>streaming_tv_Yes</th>\n",
       "      <th>streaming_movies_No internet service</th>\n",
       "      <th>streaming_movies_Yes</th>\n",
       "      <th>contract_type_One year</th>\n",
       "      <th>contract_type_Two year</th>\n",
       "      <th>internet_service_type_Fiber optic</th>\n",
       "      <th>internet_service_type_None</th>\n",
       "      <th>payment_type_Credit card (automatic)</th>\n",
       "      <th>payment_type_Electronic check</th>\n",
       "      <th>payment_type_Mailed check</th>\n",
       "    </tr>\n",
       "  </thead>\n",
       "  <tbody>\n",
       "    <tr>\n",
       "      <th>1611</th>\n",
       "      <td>2346-LOCWC</td>\n",
       "      <td>Female</td>\n",
       "      <td>0</td>\n",
       "      <td>Yes</td>\n",
       "      <td>Yes</td>\n",
       "      <td>58</td>\n",
       "      <td>Yes</td>\n",
       "      <td>No</td>\n",
       "      <td>No internet service</td>\n",
       "      <td>No internet service</td>\n",
       "      <td>...</td>\n",
       "      <td>0</td>\n",
       "      <td>1</td>\n",
       "      <td>0</td>\n",
       "      <td>0</td>\n",
       "      <td>1</td>\n",
       "      <td>0</td>\n",
       "      <td>1</td>\n",
       "      <td>1</td>\n",
       "      <td>0</td>\n",
       "      <td>0</td>\n",
       "    </tr>\n",
       "    <tr>\n",
       "      <th>1496</th>\n",
       "      <td>2205-LPVGL</td>\n",
       "      <td>Male</td>\n",
       "      <td>1</td>\n",
       "      <td>Yes</td>\n",
       "      <td>Yes</td>\n",
       "      <td>58</td>\n",
       "      <td>Yes</td>\n",
       "      <td>Yes</td>\n",
       "      <td>Yes</td>\n",
       "      <td>Yes</td>\n",
       "      <td>...</td>\n",
       "      <td>0</td>\n",
       "      <td>0</td>\n",
       "      <td>0</td>\n",
       "      <td>1</td>\n",
       "      <td>0</td>\n",
       "      <td>1</td>\n",
       "      <td>0</td>\n",
       "      <td>0</td>\n",
       "      <td>0</td>\n",
       "      <td>0</td>\n",
       "    </tr>\n",
       "    <tr>\n",
       "      <th>1689</th>\n",
       "      <td>2462-XIIJB</td>\n",
       "      <td>Male</td>\n",
       "      <td>0</td>\n",
       "      <td>No</td>\n",
       "      <td>No</td>\n",
       "      <td>5</td>\n",
       "      <td>Yes</td>\n",
       "      <td>Yes</td>\n",
       "      <td>No</td>\n",
       "      <td>No</td>\n",
       "      <td>...</td>\n",
       "      <td>1</td>\n",
       "      <td>0</td>\n",
       "      <td>0</td>\n",
       "      <td>0</td>\n",
       "      <td>0</td>\n",
       "      <td>1</td>\n",
       "      <td>0</td>\n",
       "      <td>0</td>\n",
       "      <td>1</td>\n",
       "      <td>0</td>\n",
       "    </tr>\n",
       "  </tbody>\n",
       "</table>\n",
       "<p>3 rows × 50 columns</p>\n",
       "</div>"
      ],
      "text/plain": [
       "     customer_id  gender  senior_citizen partner dependents  tenure  \\\n",
       "1611  2346-LOCWC  Female               0     Yes        Yes      58   \n",
       "1496  2205-LPVGL    Male               1     Yes        Yes      58   \n",
       "1689  2462-XIIJB    Male               0      No         No       5   \n",
       "\n",
       "     phone_service multiple_lines      online_security        online_backup  \\\n",
       "1611           Yes             No  No internet service  No internet service   \n",
       "1496           Yes            Yes                  Yes                  Yes   \n",
       "1689           Yes            Yes                   No                   No   \n",
       "\n",
       "      ... streaming_tv_Yes streaming_movies_No internet service  \\\n",
       "1611  ...                0                                    1   \n",
       "1496  ...                0                                    0   \n",
       "1689  ...                1                                    0   \n",
       "\n",
       "     streaming_movies_Yes contract_type_One year contract_type_Two year  \\\n",
       "1611                    0                      0                      1   \n",
       "1496                    0                      1                      0   \n",
       "1689                    0                      0                      0   \n",
       "\n",
       "      internet_service_type_Fiber optic  internet_service_type_None  \\\n",
       "1611                                  0                           1   \n",
       "1496                                  1                           0   \n",
       "1689                                  1                           0   \n",
       "\n",
       "     payment_type_Credit card (automatic) payment_type_Electronic check  \\\n",
       "1611                                    1                             0   \n",
       "1496                                    0                             0   \n",
       "1689                                    0                             1   \n",
       "\n",
       "     payment_type_Mailed check  \n",
       "1611                         0  \n",
       "1496                         0  \n",
       "1689                         0  \n",
       "\n",
       "[3 rows x 50 columns]"
      ]
     },
     "execution_count": 4,
     "metadata": {},
     "output_type": "execute_result"
    }
   ],
   "source": [
    "train.head(3)"
   ]
  },
  {
   "cell_type": "markdown",
   "id": "mature-partition",
   "metadata": {},
   "source": [
    "### A summary of the data"
   ]
  },
  {
   "cell_type": "code",
   "execution_count": 5,
   "id": "alien-topic",
   "metadata": {},
   "outputs": [
    {
     "data": {
      "text/html": [
       "<div>\n",
       "<style scoped>\n",
       "    .dataframe tbody tr th:only-of-type {\n",
       "        vertical-align: middle;\n",
       "    }\n",
       "\n",
       "    .dataframe tbody tr th {\n",
       "        vertical-align: top;\n",
       "    }\n",
       "\n",
       "    .dataframe thead th {\n",
       "        text-align: right;\n",
       "    }\n",
       "</style>\n",
       "<table border=\"1\" class=\"dataframe\">\n",
       "  <thead>\n",
       "    <tr style=\"text-align: right;\">\n",
       "      <th></th>\n",
       "      <th>senior_citizen</th>\n",
       "      <th>tenure</th>\n",
       "      <th>monthly_charges</th>\n",
       "      <th>total_charges</th>\n",
       "      <th>gender_encoded</th>\n",
       "      <th>partner_encoded</th>\n",
       "      <th>dependents_encoded</th>\n",
       "      <th>phone_service_encoded</th>\n",
       "      <th>paperless_billing_encoded</th>\n",
       "      <th>churn_encoded</th>\n",
       "      <th>...</th>\n",
       "      <th>streaming_tv_Yes</th>\n",
       "      <th>streaming_movies_No internet service</th>\n",
       "      <th>streaming_movies_Yes</th>\n",
       "      <th>contract_type_One year</th>\n",
       "      <th>contract_type_Two year</th>\n",
       "      <th>internet_service_type_Fiber optic</th>\n",
       "      <th>internet_service_type_None</th>\n",
       "      <th>payment_type_Credit card (automatic)</th>\n",
       "      <th>payment_type_Electronic check</th>\n",
       "      <th>payment_type_Mailed check</th>\n",
       "    </tr>\n",
       "  </thead>\n",
       "  <tbody>\n",
       "    <tr>\n",
       "      <th>count</th>\n",
       "      <td>4507.000000</td>\n",
       "      <td>4507.000000</td>\n",
       "      <td>4507.000000</td>\n",
       "      <td>4507.000000</td>\n",
       "      <td>4507.000000</td>\n",
       "      <td>4507.000000</td>\n",
       "      <td>4507.000000</td>\n",
       "      <td>4507.000000</td>\n",
       "      <td>4507.000000</td>\n",
       "      <td>4507.000000</td>\n",
       "      <td>...</td>\n",
       "      <td>4507.000000</td>\n",
       "      <td>4507.000000</td>\n",
       "      <td>4507.000000</td>\n",
       "      <td>4507.000000</td>\n",
       "      <td>4507.000000</td>\n",
       "      <td>4507.000000</td>\n",
       "      <td>4507.000000</td>\n",
       "      <td>4507.000000</td>\n",
       "      <td>4507.000000</td>\n",
       "      <td>4507.000000</td>\n",
       "    </tr>\n",
       "    <tr>\n",
       "      <th>mean</th>\n",
       "      <td>0.163302</td>\n",
       "      <td>32.663412</td>\n",
       "      <td>64.846738</td>\n",
       "      <td>3313.500244</td>\n",
       "      <td>0.497005</td>\n",
       "      <td>0.480142</td>\n",
       "      <td>0.301309</td>\n",
       "      <td>0.900821</td>\n",
       "      <td>0.591524</td>\n",
       "      <td>0.265365</td>\n",
       "      <td>...</td>\n",
       "      <td>0.384513</td>\n",
       "      <td>0.215221</td>\n",
       "      <td>0.392944</td>\n",
       "      <td>0.212114</td>\n",
       "      <td>0.242290</td>\n",
       "      <td>0.440648</td>\n",
       "      <td>0.215221</td>\n",
       "      <td>0.214555</td>\n",
       "      <td>0.340581</td>\n",
       "      <td>0.229199</td>\n",
       "    </tr>\n",
       "    <tr>\n",
       "      <th>std</th>\n",
       "      <td>0.369682</td>\n",
       "      <td>24.511510</td>\n",
       "      <td>30.132858</td>\n",
       "      <td>6973.584304</td>\n",
       "      <td>0.500047</td>\n",
       "      <td>0.499661</td>\n",
       "      <td>0.458878</td>\n",
       "      <td>0.298935</td>\n",
       "      <td>0.491606</td>\n",
       "      <td>0.441576</td>\n",
       "      <td>...</td>\n",
       "      <td>0.486534</td>\n",
       "      <td>0.411021</td>\n",
       "      <td>0.488459</td>\n",
       "      <td>0.408851</td>\n",
       "      <td>0.428516</td>\n",
       "      <td>0.496520</td>\n",
       "      <td>0.411021</td>\n",
       "      <td>0.410559</td>\n",
       "      <td>0.473957</td>\n",
       "      <td>0.420364</td>\n",
       "    </tr>\n",
       "    <tr>\n",
       "      <th>min</th>\n",
       "      <td>0.000000</td>\n",
       "      <td>0.000000</td>\n",
       "      <td>18.400000</td>\n",
       "      <td>0.000000</td>\n",
       "      <td>0.000000</td>\n",
       "      <td>0.000000</td>\n",
       "      <td>0.000000</td>\n",
       "      <td>0.000000</td>\n",
       "      <td>0.000000</td>\n",
       "      <td>0.000000</td>\n",
       "      <td>...</td>\n",
       "      <td>0.000000</td>\n",
       "      <td>0.000000</td>\n",
       "      <td>0.000000</td>\n",
       "      <td>0.000000</td>\n",
       "      <td>0.000000</td>\n",
       "      <td>0.000000</td>\n",
       "      <td>0.000000</td>\n",
       "      <td>0.000000</td>\n",
       "      <td>0.000000</td>\n",
       "      <td>0.000000</td>\n",
       "    </tr>\n",
       "    <tr>\n",
       "      <th>25%</th>\n",
       "      <td>0.000000</td>\n",
       "      <td>9.000000</td>\n",
       "      <td>35.750000</td>\n",
       "      <td>429.000000</td>\n",
       "      <td>0.000000</td>\n",
       "      <td>0.000000</td>\n",
       "      <td>0.000000</td>\n",
       "      <td>1.000000</td>\n",
       "      <td>0.000000</td>\n",
       "      <td>0.000000</td>\n",
       "      <td>...</td>\n",
       "      <td>0.000000</td>\n",
       "      <td>0.000000</td>\n",
       "      <td>0.000000</td>\n",
       "      <td>0.000000</td>\n",
       "      <td>0.000000</td>\n",
       "      <td>0.000000</td>\n",
       "      <td>0.000000</td>\n",
       "      <td>0.000000</td>\n",
       "      <td>0.000000</td>\n",
       "      <td>0.000000</td>\n",
       "    </tr>\n",
       "    <tr>\n",
       "      <th>50%</th>\n",
       "      <td>0.000000</td>\n",
       "      <td>29.000000</td>\n",
       "      <td>70.200000</td>\n",
       "      <td>1505.900000</td>\n",
       "      <td>0.000000</td>\n",
       "      <td>0.000000</td>\n",
       "      <td>0.000000</td>\n",
       "      <td>1.000000</td>\n",
       "      <td>1.000000</td>\n",
       "      <td>0.000000</td>\n",
       "      <td>...</td>\n",
       "      <td>0.000000</td>\n",
       "      <td>0.000000</td>\n",
       "      <td>0.000000</td>\n",
       "      <td>0.000000</td>\n",
       "      <td>0.000000</td>\n",
       "      <td>0.000000</td>\n",
       "      <td>0.000000</td>\n",
       "      <td>0.000000</td>\n",
       "      <td>0.000000</td>\n",
       "      <td>0.000000</td>\n",
       "    </tr>\n",
       "    <tr>\n",
       "      <th>75%</th>\n",
       "      <td>0.000000</td>\n",
       "      <td>56.000000</td>\n",
       "      <td>89.900000</td>\n",
       "      <td>4213.800000</td>\n",
       "      <td>1.000000</td>\n",
       "      <td>1.000000</td>\n",
       "      <td>1.000000</td>\n",
       "      <td>1.000000</td>\n",
       "      <td>1.000000</td>\n",
       "      <td>1.000000</td>\n",
       "      <td>...</td>\n",
       "      <td>1.000000</td>\n",
       "      <td>0.000000</td>\n",
       "      <td>1.000000</td>\n",
       "      <td>0.000000</td>\n",
       "      <td>0.000000</td>\n",
       "      <td>1.000000</td>\n",
       "      <td>0.000000</td>\n",
       "      <td>0.000000</td>\n",
       "      <td>1.000000</td>\n",
       "      <td>0.000000</td>\n",
       "    </tr>\n",
       "    <tr>\n",
       "      <th>max</th>\n",
       "      <td>1.000000</td>\n",
       "      <td>72.000000</td>\n",
       "      <td>118.750000</td>\n",
       "      <td>84050.000000</td>\n",
       "      <td>1.000000</td>\n",
       "      <td>1.000000</td>\n",
       "      <td>1.000000</td>\n",
       "      <td>1.000000</td>\n",
       "      <td>1.000000</td>\n",
       "      <td>1.000000</td>\n",
       "      <td>...</td>\n",
       "      <td>1.000000</td>\n",
       "      <td>1.000000</td>\n",
       "      <td>1.000000</td>\n",
       "      <td>1.000000</td>\n",
       "      <td>1.000000</td>\n",
       "      <td>1.000000</td>\n",
       "      <td>1.000000</td>\n",
       "      <td>1.000000</td>\n",
       "      <td>1.000000</td>\n",
       "      <td>1.000000</td>\n",
       "    </tr>\n",
       "  </tbody>\n",
       "</table>\n",
       "<p>8 rows × 31 columns</p>\n",
       "</div>"
      ],
      "text/plain": [
       "       senior_citizen       tenure  monthly_charges  total_charges  \\\n",
       "count     4507.000000  4507.000000      4507.000000    4507.000000   \n",
       "mean         0.163302    32.663412        64.846738    3313.500244   \n",
       "std          0.369682    24.511510        30.132858    6973.584304   \n",
       "min          0.000000     0.000000        18.400000       0.000000   \n",
       "25%          0.000000     9.000000        35.750000     429.000000   \n",
       "50%          0.000000    29.000000        70.200000    1505.900000   \n",
       "75%          0.000000    56.000000        89.900000    4213.800000   \n",
       "max          1.000000    72.000000       118.750000   84050.000000   \n",
       "\n",
       "       gender_encoded  partner_encoded  dependents_encoded  \\\n",
       "count     4507.000000      4507.000000         4507.000000   \n",
       "mean         0.497005         0.480142            0.301309   \n",
       "std          0.500047         0.499661            0.458878   \n",
       "min          0.000000         0.000000            0.000000   \n",
       "25%          0.000000         0.000000            0.000000   \n",
       "50%          0.000000         0.000000            0.000000   \n",
       "75%          1.000000         1.000000            1.000000   \n",
       "max          1.000000         1.000000            1.000000   \n",
       "\n",
       "       phone_service_encoded  paperless_billing_encoded  churn_encoded  ...  \\\n",
       "count            4507.000000                4507.000000    4507.000000  ...   \n",
       "mean                0.900821                   0.591524       0.265365  ...   \n",
       "std                 0.298935                   0.491606       0.441576  ...   \n",
       "min                 0.000000                   0.000000       0.000000  ...   \n",
       "25%                 1.000000                   0.000000       0.000000  ...   \n",
       "50%                 1.000000                   1.000000       0.000000  ...   \n",
       "75%                 1.000000                   1.000000       1.000000  ...   \n",
       "max                 1.000000                   1.000000       1.000000  ...   \n",
       "\n",
       "       streaming_tv_Yes  streaming_movies_No internet service  \\\n",
       "count       4507.000000                           4507.000000   \n",
       "mean           0.384513                              0.215221   \n",
       "std            0.486534                              0.411021   \n",
       "min            0.000000                              0.000000   \n",
       "25%            0.000000                              0.000000   \n",
       "50%            0.000000                              0.000000   \n",
       "75%            1.000000                              0.000000   \n",
       "max            1.000000                              1.000000   \n",
       "\n",
       "       streaming_movies_Yes  contract_type_One year  contract_type_Two year  \\\n",
       "count           4507.000000             4507.000000             4507.000000   \n",
       "mean               0.392944                0.212114                0.242290   \n",
       "std                0.488459                0.408851                0.428516   \n",
       "min                0.000000                0.000000                0.000000   \n",
       "25%                0.000000                0.000000                0.000000   \n",
       "50%                0.000000                0.000000                0.000000   \n",
       "75%                1.000000                0.000000                0.000000   \n",
       "max                1.000000                1.000000                1.000000   \n",
       "\n",
       "       internet_service_type_Fiber optic  internet_service_type_None  \\\n",
       "count                        4507.000000                 4507.000000   \n",
       "mean                            0.440648                    0.215221   \n",
       "std                             0.496520                    0.411021   \n",
       "min                             0.000000                    0.000000   \n",
       "25%                             0.000000                    0.000000   \n",
       "50%                             0.000000                    0.000000   \n",
       "75%                             1.000000                    0.000000   \n",
       "max                             1.000000                    1.000000   \n",
       "\n",
       "       payment_type_Credit card (automatic)  payment_type_Electronic check  \\\n",
       "count                           4507.000000                    4507.000000   \n",
       "mean                               0.214555                       0.340581   \n",
       "std                                0.410559                       0.473957   \n",
       "min                                0.000000                       0.000000   \n",
       "25%                                0.000000                       0.000000   \n",
       "50%                                0.000000                       0.000000   \n",
       "75%                                0.000000                       1.000000   \n",
       "max                                1.000000                       1.000000   \n",
       "\n",
       "       payment_type_Mailed check  \n",
       "count                4507.000000  \n",
       "mean                    0.229199  \n",
       "std                     0.420364  \n",
       "min                     0.000000  \n",
       "25%                     0.000000  \n",
       "50%                     0.000000  \n",
       "75%                     0.000000  \n",
       "max                     1.000000  \n",
       "\n",
       "[8 rows x 31 columns]"
      ]
     },
     "execution_count": 5,
     "metadata": {},
     "output_type": "execute_result"
    }
   ],
   "source": [
    "train.describe()"
   ]
  },
  {
   "cell_type": "markdown",
   "id": "local-paper",
   "metadata": {},
   "source": [
    "## Explore"
   ]
  },
  {
   "cell_type": "markdown",
   "id": "considerable-attendance",
   "metadata": {},
   "source": [
    "### 1. How often does churn occur? Out of?"
   ]
  },
  {
   "cell_type": "code",
   "execution_count": 6,
   "id": "a88c304f",
   "metadata": {},
   "outputs": [
    {
     "name": "stdout",
     "output_type": "stream",
     "text": [
      "Total churn = 1869 out of 7043 customers.\n"
     ]
    }
   ],
   "source": [
    "churn_count = df[df['churn'] == \"Yes\"]['churn'].count()\n",
    "total_churn_info = df['churn'].count()\n",
    "print(f\"Total churn = {churn_count} out of {total_churn_info} customers.\")"
   ]
  },
  {
   "cell_type": "code",
   "execution_count": 7,
   "id": "4097c346",
   "metadata": {
    "scrolled": false
   },
   "outputs": [
    {
     "data": {
      "image/png": "[encoded data removed]",
      "text/plain": [
       "<Figure size 640x480 with 1 Axes>"
      ]
     },
     "metadata": {},
     "output_type": "display_data"
    }
   ],
   "source": [
    "sns.countplot(data=df,y='churn')\n",
    "plt.show()"
   ]
  },
  {
   "cell_type": "code",
   "execution_count": 8,
   "id": "73c6fc04",
   "metadata": {},
   "outputs": [],
   "source": [
    "df_pie = df.groupby(['churn'])['churn'].count().to_frame(name = 'count').reset_index()"
   ]
  },
  {
   "cell_type": "code",
   "execution_count": 9,
   "id": "4ae06863",
   "metadata": {},
   "outputs": [
    {
     "data": {
      "image/png": "[encoded data removed]",
      "text/plain": [
       "<Figure size 640x480 with 1 Axes>"
      ]
     },
     "metadata": {},
     "output_type": "display_data"
    }
   ],
   "source": [
    "df_pie = df.groupby(['churn'])['churn'].count().to_frame(name = 'count').reset_index()\n",
    "df_pie.set_index('churn', inplace=True)\n",
    "df_pie.plot.pie(y='count', title=\"Churn\", legend=False, \\\n",
    "                   autopct='%1.1f%%')\n",
    "plt.show()"
   ]
  },
  {
   "cell_type": "markdown",
   "id": "wound-gothic",
   "metadata": {},
   "source": [
    "### 2. Are senior citizen more likely to churn?"
   ]
  },
  {
   "cell_type": "markdown",
   "id": "modern-wilderness",
   "metadata": {},
   "source": [
    "Statistic Test:\n",
    "\n",
    "**I will now use a chi-square test to investigate the question of whether `churn` is independent of being a `senior_citizen`.**\n",
    "* I will use a confidence interval of 95% \n",
    "* The resulting alpha is .05<br>\n",
    "\n",
    "**- $H_{0}$ (Null Hypothesis): `churn` is independent of being a `senior_citizen`.**\n",
    "\n",
    "**- $H_{a}$ (Alternative Hypothesis): `churn` is dependent on being a `senior_citizen`.**"
   ]
  },
  {
   "cell_type": "code",
   "execution_count": 10,
   "id": "7ab4f64b",
   "metadata": {},
   "outputs": [
    {
     "name": "stdout",
     "output_type": "stream",
     "text": [
      "Observed Values\n",
      "\n",
      "[[4508 1393]\n",
      " [ 666  476]]\n",
      "------\n",
      "Expected Values\n",
      "\n",
      "[[4335 1565]\n",
      " [ 838  303]]\n",
      "-----\n",
      "\n",
      "chi^2 =  159.4263\n",
      "p-value =  0.0000\n",
      "Is p-value < alpha? True\n"
     ]
    },
    {
     "data": {
      "text/plain": [
       "'There exists some relationship between senior_citizen and churn. (p-value: 0.0000)'"
      ]
     },
     "execution_count": 10,
     "metadata": {},
     "output_type": "execute_result"
    }
   ],
   "source": [
    "group1='senior_citizen'\n",
    "group2='churn'\n",
    "observed = pd.crosstab(df[group1], df[group2])\n",
    "alpha = 0.05\n",
    "chi2, p, dof, expected = stats.chi2_contingency(observed)\n",
    "observed_out = observed.values\n",
    "expected_out = expected.astype(int)\n",
    "# print 'Observed Values' followed by a new line\n",
    "print('Observed Values\\n')\n",
    "\n",
    "# print the values from the 'observed' dataframe\n",
    "print(observed_out)\n",
    "\n",
    "# print --- and then a new line, 'Expected Values', followed by another new line\n",
    "print('------\\nExpected Values\\n')\n",
    "\n",
    "# print the expected values array\n",
    "print(expected_out)\n",
    "\n",
    "# print a new line\n",
    "print('-----\\n')\n",
    "\n",
    "# print the chi2 value, formatted to a float with 4 digits. \n",
    "print(f'chi^2 = {chi2: .4f}')\n",
    "\n",
    "# print the p-value, formatted to a float with 4 digits. \n",
    "print(f'p-value = {p: .4f}')\n",
    "print('Is p-value < alpha?', p < alpha)\n",
    "\n",
    "prepare.eval_results(p, alpha, group1, group2)"
   ]
  },
  {
   "cell_type": "markdown",
   "id": "cognitive-brook",
   "metadata": {},
   "source": [
    "**Therefore, we have evidence to support that \"`senior_citizen`\" and \"`churn`\" are related. Based on this observed in the train data, I believe that using the \"`senior_citizen`\" feature in modeling will likely have a small positive impact on the model's accuracy.**"
   ]
  },
  {
   "cell_type": "code",
   "execution_count": 11,
   "id": "563d61f9",
   "metadata": {},
   "outputs": [
    {
     "data": {
      "image/png": "[encoded data removed]",
      "text/plain": [
       "<Figure size 640x480 with 1 Axes>"
      ]
     },
     "metadata": {},
     "output_type": "display_data"
    }
   ],
   "source": [
    "sns.countplot(data=df, x=\"churn\", hue=\"senior_citizen\")\n",
    "plt.show()"
   ]
  },
  {
   "cell_type": "markdown",
   "id": "environmental-longitude",
   "metadata": {},
   "source": [
    "### 3. Does added feature `total_addons` affect churn?"
   ]
  },
  {
   "cell_type": "markdown",
   "id": "7e9faff5",
   "metadata": {},
   "source": [
    "Statistic Test:\n",
    "\n",
    "**I will now use a chi-square test to investigate if `total_addons` and `churn` are related.**\n",
    "We will investigate the question of whether `total_addons` is independent of `churn`.\n",
    "\n",
    "- $H_{0}$ (Null Hypothesis): `total_addons` is independent of `churn`. \n",
    "\n",
    "- $H_{a}$ (Alternative Hypothesis): `total_addons` is dependent on `churn`. "
   ]
  },
  {
   "cell_type": "code",
   "execution_count": 12,
   "id": "f7598b54",
   "metadata": {},
   "outputs": [],
   "source": [
    "addons = ['online_security','online_backup','device_protection', 'tech_support', 'streaming_tv','streaming_movies']\n",
    "addon_sum=(df[addons]=='Yes').sum(axis=1)\n",
    "df=df.assign(addon_sum=addon_sum)\n",
    "\n",
    "group1='addon_sum'\n",
    "group2='churn'"
   ]
  },
  {
   "cell_type": "code",
   "execution_count": 13,
   "id": "20bd9d8c",
   "metadata": {
    "scrolled": false
   },
   "outputs": [
    {
     "name": "stdout",
     "output_type": "stream",
     "text": [
      "Observed Values\n",
      "\n",
      "[[1744  475]\n",
      " [ 524  442]\n",
      " [ 663  370]\n",
      " [ 812  306]\n",
      " [ 662  190]\n",
      " [ 500   71]\n",
      " [ 269   15]]\n",
      "------\n",
      "Expected Values\n",
      "\n",
      "[[1630  588]\n",
      " [ 709  256]\n",
      " [ 758  274]\n",
      " [ 821  296]\n",
      " [ 625  226]\n",
      " [ 419  151]\n",
      " [ 208   75]]\n",
      "-----\n",
      "\n",
      "chi^2 =  390.9430\n",
      "p-value =  0.0000\n",
      "Is p-value < alpha? True\n"
     ]
    },
    {
     "data": {
      "text/plain": [
       "'There exists some relationship between addon_sum and churn. (p-value: 0.0000)'"
      ]
     },
     "execution_count": 13,
     "metadata": {},
     "output_type": "execute_result"
    }
   ],
   "source": [
    "observed = pd.crosstab(df[group1], df[group2])\n",
    "alpha = 0.05\n",
    "chi2, p, dof, expected = stats.chi2_contingency(observed)\n",
    "observed_out = observed.values\n",
    "expected_out = expected.astype(int)\n",
    "# print 'Observed Values' followed by a new line\n",
    "print('Observed Values\\n')\n",
    "\n",
    "# print the values from the 'observed' dataframe\n",
    "print(observed_out)\n",
    "\n",
    "# print --- and then a new line, 'Expected Values', followed by another new line\n",
    "print('------\\nExpected Values\\n')\n",
    "\n",
    "# print the expected values array\n",
    "print(expected_out)\n",
    "\n",
    "# print a new line\n",
    "print('-----\\n')\n",
    "\n",
    "# print the chi2 value, formatted to a float with 4 digits. \n",
    "print(f'chi^2 = {chi2: .4f}')\n",
    "\n",
    "# print the p-value, formatted to a float with 4 digits. \n",
    "print(f'p-value = {p: .4f}')\n",
    "print('Is p-value < alpha?', p < alpha)\n",
    "\n",
    "prepare.eval_results(p, alpha, group1, group2)"
   ]
  },
  {
   "cell_type": "markdown",
   "id": "cfbe19ad",
   "metadata": {},
   "source": [
    "**The p-value is less than the alpha. Therefore, we have evidence to support that `addon_sum` and `churn` are related. Based on this observed in the train data, I believe that using the `addon_sum` feature in modeling will likely have a small positive impact on the model's accuracy.**"
   ]
  },
  {
   "cell_type": "code",
   "execution_count": 14,
   "id": "7262c287",
   "metadata": {},
   "outputs": [
    {
     "data": {
      "image/png": "[encoded data removed]",
      "text/plain": [
       "<Figure size 700x400 with 1 Axes>"
      ]
     },
     "metadata": {},
     "output_type": "display_data"
    }
   ],
   "source": [
    "CrosstabResult=pd.crosstab(index=df[group1],columns=df[group2])\n",
    "CrosstabResult.plot.bar(figsize=(7,4), rot=0)\n",
    "plt.show()"
   ]
  },
  {
   "cell_type": "markdown",
   "id": "aa114eac",
   "metadata": {},
   "source": [
    "### 4. Does `tech_support` affect churn?"
   ]
  },
  {
   "cell_type": "markdown",
   "id": "9415ee40",
   "metadata": {},
   "source": [
    "**I will now use a chi-square test to investigate if `tech_support` and `churn` are related.**\n",
    "We will investigate the question of whether `tech_support` is independent of `churn`.\n",
    "\n",
    "- $H_{0}$ (Null Hypothesis): `tech_support` is independent of `churn`. \n",
    "\n",
    "- $H_{a}$ (Alternative Hypothesis): `tech_support` is dependent on `churn`. "
   ]
  },
  {
   "cell_type": "code",
   "execution_count": 15,
   "id": "b463f97d",
   "metadata": {},
   "outputs": [],
   "source": [
    "group1='tech_support'\n",
    "group2='churn'"
   ]
  },
  {
   "cell_type": "code",
   "execution_count": 16,
   "id": "fe855bf6",
   "metadata": {
    "scrolled": false
   },
   "outputs": [
    {
     "name": "stdout",
     "output_type": "stream",
     "text": [
      "Observed Values\n",
      "\n",
      "[[2027 1446]\n",
      " [1413  113]\n",
      " [1734  310]]\n",
      "------\n",
      "Expected Values\n",
      "\n",
      "[[2551  921]\n",
      " [1121  404]\n",
      " [1501  542]]\n",
      "-----\n",
      "\n",
      "chi^2 =  828.1971\n",
      "p-value =  0.0000\n",
      "Is p-value < alpha? True\n"
     ]
    },
    {
     "data": {
      "text/plain": [
       "'There exists some relationship between tech_support and churn. (p-value: 0.0000)'"
      ]
     },
     "execution_count": 16,
     "metadata": {},
     "output_type": "execute_result"
    }
   ],
   "source": [
    "observed = pd.crosstab(df[group1], df[group2])\n",
    "alpha = 0.05\n",
    "chi2, p, dof, expected = stats.chi2_contingency(observed)\n",
    "observed_out = observed.values\n",
    "expected_out = expected.astype(int)\n",
    "# print 'Observed Values' followed by a new line\n",
    "print('Observed Values\\n')\n",
    "\n",
    "# print the values from the 'observed' dataframe\n",
    "print(observed_out)\n",
    "\n",
    "# print --- and then a new line, 'Expected Values', followed by another new line\n",
    "print('------\\nExpected Values\\n')\n",
    "\n",
    "# print the expected values array\n",
    "print(expected_out)\n",
    "\n",
    "# print a new line\n",
    "print('-----\\n')\n",
    "\n",
    "# print the chi2 value, formatted to a float with 4 digits. \n",
    "print(f'chi^2 = {chi2: .4f}')\n",
    "\n",
    "# print the p-value, formatted to a float with 4 digits. \n",
    "print(f'p-value = {p: .4f}')\n",
    "print('Is p-value < alpha?', p < alpha)\n",
    "\n",
    "prepare.eval_results(p, alpha, group1, group2)"
   ]
  },
  {
   "cell_type": "markdown",
   "id": "1a0990bc",
   "metadata": {},
   "source": [
    "**The p-value is less than the alpha. Therefore, we have evidence to support that `tech_support` and `churn` are related. Based on this observed in the train data, I believe that using the `tech_support` feature in modeling will likely have a small positive impact on the model's accuracy.**"
   ]
  },
  {
   "cell_type": "code",
   "execution_count": 17,
   "id": "8a2a7e31",
   "metadata": {},
   "outputs": [
    {
     "data": {
      "image/png": "[encoded data removed]",
      "text/plain": [
       "<Figure size 640x480 with 1 Axes>"
      ]
     },
     "metadata": {},
     "output_type": "display_data"
    }
   ],
   "source": [
    "sns.countplot(data=df, x=\"churn\", hue=\"tech_support\")\n",
    "plt.show()"
   ]
  },
  {
   "cell_type": "markdown",
   "id": "still-industry",
   "metadata": {},
   "source": [
    "### Exploration Summary\n",
    "* \"Senior Citizen Status\" was found to be a driver of \"churn\"\n",
    "* \"Tech Support\" was found to be a driver of \"churn\" \n",
    "* Added feature \"Total Addons\" was found to be a driver of \"churn\" \n",
    "\n",
    "### Features I am moving to modeling With\n",
    "* \"Senior Citizen Status\" (small difference in churn percentage, but relationship to churn is statistically significant)\n",
    "* \"Tech Support\" (small difference in churn percentage, but relationship to churn is statistically significant)\n",
    "* \"Total Addons\" (moderate difference in churn percentage, and dependance is statistically significant)"
   ]
  },
  {
   "cell_type": "markdown",
   "id": "sonic-halifax",
   "metadata": {},
   "source": [
    "## Modeling\n",
    "* I used accuracy as my evaluation metric\n",
    "</br>\n",
    "\n",
    "* churn makes up 26.54% of the data \n",
    "* by guessing not churn for every customer one could achieve an accuracy of 73.46%\n",
    "* 73.46% will be the baseline accuracy I use for this project\n",
    "</br>\n",
    "\n",
    "* I will be evaluating models developed using three different model types and various hyperparameter configurations \n",
    "* Models will be evaluated on train and validate data\n",
    "* The model that performs the best will then be evaluated on test data "
   ]
  },
  {
   "cell_type": "code",
   "execution_count": 30,
   "id": "3637b1a9",
   "metadata": {},
   "outputs": [],
   "source": [
    "train, validate, test = prepare.split_telco_data(df)"
   ]
  },
  {
   "cell_type": "code",
   "execution_count": 33,
   "id": "d4a4ddfe",
   "metadata": {},
   "outputs": [],
   "source": [
    "train_cust, validate_cust, test_cust = train['customer_id'],validate['customer_id'],test['customer_id']"
   ]
  },
  {
   "cell_type": "code",
   "execution_count": 35,
   "id": "dc343bff",
   "metadata": {},
   "outputs": [],
   "source": [
    "X_train, y_train = prepare.model_telco_data(train)\n",
    "X_validate, y_validate = prepare.model_telco_data(validate)\n",
    "X_test, y_test = prepare.model_telco_data(test)"
   ]
  },
  {
   "cell_type": "code",
   "execution_count": 37,
   "id": "b5257db4",
   "metadata": {},
   "outputs": [],
   "source": [
    "baseline = df['churn_encoded'].value_counts().idxmax()"
   ]
  },
  {
   "cell_type": "markdown",
   "id": "ultimate-strength",
   "metadata": {},
   "source": [
    "### Random Forest"
   ]
  },
  {
   "cell_type": "code",
   "execution_count": 21,
   "id": "ancient-paste",
   "metadata": {},
   "outputs": [
    {
     "name": "stdout",
     "output_type": "stream",
     "text": [
      "Random Forest accuracy: 79.05% on training set\n",
      "     Baseline accuracy: 73.46% on training set\n",
      "\n",
      "Random Forest accuracy: 78.17% on validate set\n",
      "     Baseline accuracy: 73.47% on validate set\n",
      "\n"
     ]
    }
   ],
   "source": [
    "rf = RandomForestClassifier(bootstrap=True, \n",
    "                            class_weight=None, \n",
    "                            criterion='gini',\n",
    "                            min_samples_leaf=3,\n",
    "                            n_estimators=100,\n",
    "                            max_depth=3, \n",
    "                            random_state=123)\n",
    "rf.fit(X_train, y_train)\n",
    "RandomForestClassifier(max_depth=3, min_samples_leaf=3, random_state=123)\n",
    "\n",
    "y_pred = rf.predict(X_train)\n",
    "train_acc = pd.DataFrame()\n",
    "train_acc['train_prediction']=y_pred\n",
    "train_acc['actual']=y_train.tolist()\n",
    "train_acc['baseline_prediction']=baseline\n",
    "model_accuracy = (train_acc.train_prediction == train_acc.actual).mean()\n",
    "baseline_accuracy = (train_acc.baseline_prediction == train_acc.actual).mean()\n",
    "\n",
    "print(f'Random Forest accuracy: {model_accuracy:.2%} on training set')\n",
    "print(f'     Baseline accuracy: {baseline_accuracy:.2%} on training set\\n')\n",
    "\n",
    "\n",
    "y_pred = rf.predict(X_validate)\n",
    "validate_acc = pd.DataFrame()\n",
    "validate_acc['validate_prediction']=y_pred\n",
    "validate_acc['actual']=y_validate.tolist()\n",
    "validate_acc['baseline_prediction']=baseline\n",
    "model_accuracy = (validate_acc.validate_prediction == validate_acc.actual).mean()\n",
    "baseline_accuracy = (validate_acc.baseline_prediction == validate_acc.actual).mean()\n",
    "\n",
    "print(f'Random Forest accuracy: {model_accuracy:.2%} on validate set')\n",
    "print(f'     Baseline accuracy: {baseline_accuracy:.2%} on validate set\\n')"
   ]
  },
  {
   "cell_type": "markdown",
   "id": "plastic-oxygen",
   "metadata": {},
   "source": [
    "* Random Forest accuracy is higher than baseline for training and validate set"
   ]
  },
  {
   "cell_type": "markdown",
   "id": "persistent-algorithm",
   "metadata": {},
   "source": [
    "### Logistic Regression"
   ]
  },
  {
   "cell_type": "code",
   "execution_count": 38,
   "id": "suspected-variety",
   "metadata": {},
   "outputs": [
    {
     "name": "stdout",
     "output_type": "stream",
     "text": [
      "Logistic Regression accuracy: 32.88% on training set\n",
      "           Baseline accuracy: 73.46% on training set\n",
      "\n",
      "Logistic Regression accuracy: 33.27% on validate set\n",
      "           Baseline accuracy: 73.47% on validate set\n",
      "\n"
     ]
    }
   ],
   "source": [
    "logit = LogisticRegression(C=1, class_weight={0:1, 1:99}, random_state=123, intercept_scaling=1, solver='lbfgs')\n",
    "logit.fit(X_train, y_train)\n",
    "\n",
    "y_pred = logit.predict(X_train)\n",
    "train_acc = pd.DataFrame()\n",
    "train_acc['train_prediction']=y_pred\n",
    "train_acc['actual']=y_train.tolist()\n",
    "train_acc['baseline_prediction']=baseline\n",
    "model_accuracy = (train_acc.train_prediction == train_acc.actual).mean()\n",
    "baseline_accuracy = (train_acc.baseline_prediction == train_acc.actual).mean()\n",
    "\n",
    "print(f'Logistic Regression accuracy: {model_accuracy:.2%} on training set')\n",
    "print(f'           Baseline accuracy: {baseline_accuracy:.2%} on training set\\n')\n",
    "\n",
    "\n",
    "y_pred = logit.predict(X_validate)\n",
    "validate_acc = pd.DataFrame()\n",
    "validate_acc['validate_prediction']=y_pred\n",
    "validate_acc['actual']=y_validate.tolist()\n",
    "validate_acc['baseline_prediction']=baseline\n",
    "model_accuracy = (validate_acc.validate_prediction == validate_acc.actual).mean()\n",
    "baseline_accuracy = (validate_acc.baseline_prediction == validate_acc.actual).mean()\n",
    "\n",
    "print(f'Logistic Regression accuracy: {model_accuracy:.2%} on validate set')\n",
    "print(f'           Baseline accuracy: {baseline_accuracy:.2%} on validate set\\n')"
   ]
  },
  {
   "cell_type": "markdown",
   "id": "blank-station",
   "metadata": {},
   "source": [
    "* Logistic Regression is less accurate then baseline on training but slightly higher on validate set than training"
   ]
  },
  {
   "cell_type": "markdown",
   "id": "balanced-india",
   "metadata": {},
   "source": [
    "### KNN"
   ]
  },
  {
   "cell_type": "code",
   "execution_count": 39,
   "id": "corporate-hanging",
   "metadata": {},
   "outputs": [
    {
     "name": "stdout",
     "output_type": "stream",
     "text": [
      "     KNN accuracy: 83.56% on training set\n",
      "Baseline accuracy: 73.46% on training set\n",
      "\n",
      "     KNN accuracy: 76.75% on validate set\n",
      "Baseline accuracy: 73.47% on validate set\n",
      "\n"
     ]
    }
   ],
   "source": [
    "knn = KNeighborsClassifier(n_neighbors=5, weights='uniform')\n",
    "knn.fit(X_train, y_train)\n",
    "\n",
    "y_pred = knn.predict(X_train)\n",
    "train_acc = pd.DataFrame()\n",
    "train_acc['train_prediction']=y_pred\n",
    "train_acc['actual']=y_train.tolist()\n",
    "train_acc['baseline_prediction']=baseline\n",
    "model_accuracy = (train_acc.train_prediction == train_acc.actual).mean()\n",
    "baseline_accuracy = (train_acc.baseline_prediction == train_acc.actual).mean()\n",
    "\n",
    "print(f'     KNN accuracy: {model_accuracy:.2%} on training set')\n",
    "print(f'Baseline accuracy: {baseline_accuracy:.2%} on training set\\n')\n",
    "\n",
    "y_pred = knn.predict(X_validate)\n",
    "validate_acc = pd.DataFrame()\n",
    "validate_acc['validate_prediction']=y_pred\n",
    "validate_acc['actual']=y_validate.tolist()\n",
    "validate_acc['baseline_prediction']=baseline\n",
    "model_accuracy = (validate_acc.validate_prediction == validate_acc.actual).mean()\n",
    "baseline_accuracy = (validate_acc.baseline_prediction == validate_acc.actual).mean()\n",
    "\n",
    "print(f'     KNN accuracy: {model_accuracy:.2%} on validate set')\n",
    "print(f'Baseline accuracy: {baseline_accuracy:.2%} on validate set\\n')"
   ]
  },
  {
   "cell_type": "markdown",
   "id": "harmful-jewel",
   "metadata": {},
   "source": [
    "* KNN model is 3.28% more accurate on validate set than baseline"
   ]
  },
  {
   "cell_type": "markdown",
   "id": "ruled-denmark",
   "metadata": {},
   "source": [
    "### Comparing Models\n",
    "\n",
    "* Out of the Random Forest, KNN, and Logistic Regression models Random Forest performed higher than baseline on train and validate\n",
    "* The Logistic Regression model performed slightly better on validate data but was worse than baseline on either one.\n",
    "\n",
    "* I have chosen to move forward to the test set with the Random Forest model"
   ]
  },
  {
   "cell_type": "markdown",
   "id": "vocal-screen",
   "metadata": {},
   "source": [
    "### Random Forest on Test"
   ]
  },
  {
   "cell_type": "code",
   "execution_count": 40,
   "id": "parliamentary-genetics",
   "metadata": {},
   "outputs": [
    {
     "name": "stdout",
     "output_type": "stream",
     "text": [
      "     KNN accuracy: 74.66% on test set\n",
      "Baseline accuracy: 73.46% on test set\n",
      "\n"
     ]
    }
   ],
   "source": [
    "y_pred = knn.predict(X_test)\n",
    "test_acc = pd.DataFrame()\n",
    "test_acc['test_prediction']=y_pred\n",
    "test_acc['actual']=y_test.tolist()\n",
    "test_acc['baseline_prediction']=baseline\n",
    "model_accuracy = (test_acc.test_prediction == test_acc.actual).mean()\n",
    "baseline_accuracy = (test_acc.baseline_prediction == test_acc.actual).mean()\n",
    "\n",
    "print(f'     KNN accuracy: {model_accuracy:.2%} on test set')\n",
    "print(f'Baseline accuracy: {baseline_accuracy:.2%} on test set\\n')"
   ]
  },
  {
   "cell_type": "markdown",
   "id": "ideal-wallace",
   "metadata": {},
   "source": [
    "### Modeling Summary\n",
    "\n",
    "* Out of the Random Forest, KNN, and Logistic Regression models Random Forest performed higher than baseline on train and validate\n",
    "* The Logistic Regression model performed slightly better on validate data but was worse than baseline on either one."
   ]
  },
  {
   "cell_type": "markdown",
   "id": "random-initial",
   "metadata": {},
   "source": [
    "## Conclusions\n",
    "\n",
    "### Exploration\n",
    "\n",
    "* Total churn = 1869 out of 7043 customers.\n",
    "* 26.5% Churned\n",
    "* 73.5% Not Churned\n",
    "\n",
    "### Modeling\n",
    "\n",
    "* Out of the Random Forest, KNN, and Logistic Regression models Random Forest performed higher than baseline on train and validate\n",
    "* The Logistic Regression model performed slightly better on validate data but was worse than baseline on either one."
   ]
  },
  {
   "cell_type": "markdown",
   "id": "romantic-oriental",
   "metadata": {},
   "source": [
    "### Next Steps\n",
    "* For loop chi square all categorical features against churn, and sort each feature by accuracy\n",
    "* Explore further numerical features\n",
    "* Look for other ways to calculate \"Total Charges\" Such as standard deviation from the mean and compare against churn"
   ]
  },
  {
   "cell_type": "code",
   "execution_count": 88,
   "id": "1745a2dd",
   "metadata": {},
   "outputs": [],
   "source": [
    "prediction_of_churn = knn.predict(X_test)\n",
    "probability_of_churn = rf.predict_proba(X_test)\n",
    "probability_of_churn=pd.DataFrame(data=probability_of_churn)"
   ]
  },
  {
   "cell_type": "code",
   "execution_count": 111,
   "id": "fa944fa1",
   "metadata": {},
   "outputs": [],
   "source": [
    "csv = pd.DataFrame()"
   ]
  },
  {
   "cell_type": "code",
   "execution_count": 112,
   "id": "ec835bfc",
   "metadata": {},
   "outputs": [],
   "source": [
    "csv['customer_id']=test_cust"
   ]
  },
  {
   "cell_type": "code",
   "execution_count": 113,
   "id": "85217bd8",
   "metadata": {},
   "outputs": [],
   "source": [
    "csv['0']=probability_of_churn[0].tolist()\n",
    "csv['1']=probability_of_churn[1].tolist()"
   ]
  },
  {
   "cell_type": "code",
   "execution_count": 114,
   "id": "34a050fc",
   "metadata": {},
   "outputs": [],
   "source": [
    "csv['prediction_of_churn'] = prediction_of_churn"
   ]
  },
  {
   "cell_type": "code",
   "execution_count": 117,
   "id": "c5a3f25a",
   "metadata": {},
   "outputs": [],
   "source": [
    "import os  \n",
    "os.makedirs('folder/subfolder', exist_ok=True)  \n",
    "csv.to_csv('folder/subfolder/out.csv')  "
   ]
  }
 ],
 "metadata": {
  "kernelspec": {
   "display_name": "Python 3 (ipykernel)",
   "language": "python",
   "name": "python3"
  },
  "language_info": {
   "codemirror_mode": {
    "name": "ipython",
    "version": 3
   },
   "file_extension": ".py",
   "mimetype": "text/x-python",
   "name": "python",
   "nbconvert_exporter": "python",
   "pygments_lexer": "ipython3",
   "version": "3.9.15"
  }
 },
 "nbformat": 4,
 "nbformat_minor": 5
}
