{
 "cells": [
  {
   "cell_type": "code",
   "execution_count": 25,
   "id": "5c14c051",
   "metadata": {},
   "outputs": [
    {
     "data": {
      "text/html": [
       "<script>\n",
       "code_show=true; \n",
       "function code_toggle() {\n",
       " if (code_show){\n",
       " $('div.input').hide();\n",
       " } else {\n",
       " $('div.input').show();\n",
       " }\n",
       " code_show = !code_show\n",
       "} \n",
       "$( document ).ready(code_toggle);\n",
       "</script>\n",
       "<form action=\"javascript:code_toggle()\"><input type=\"submit\" value=\"Raw Code\"></form>"
      ],
      "text/plain": [
       "<IPython.core.display.HTML object>"
      ]
     },
     "execution_count": 25,
     "metadata": {},
     "output_type": "execute_result"
    }
   ],
   "source": [
    "from IPython.display import HTML\n",
    "\n",
    "HTML('''<script>\n",
    "code_show=true; \n",
    "function code_toggle() {\n",
    " if (code_show){\n",
    " $('div.input').hide();\n",
    " } else {\n",
    " $('div.input').show();\n",
    " }\n",
    " code_show = !code_show\n",
    "} \n",
    "$( document ).ready(code_toggle);\n",
    "</script>\n",
    "<form action=\"javascript:code_toggle()\"><input type=\"submit\" value=\"Raw Code\"></form>''')"
   ]
  },
  {
   "cell_type": "markdown",
   "id": "passive-collect",
   "metadata": {},
   "source": [
    "# Telco Churn"
   ]
  },
  {
   "cell_type": "markdown",
   "id": "typical-anime",
   "metadata": {},
   "source": [
    "# Goal: \n",
    "* Discover drivers of churn in Telco\n",
    "* Use drivers to develop a machine learning model "
   ]
  },
  {
   "cell_type": "markdown",
   "id": "recognized-insertion",
   "metadata": {},
   "source": [
    "# Imports"
   ]
  },
  {
   "cell_type": "code",
   "execution_count": 1,
   "id": "following-steam",
   "metadata": {},
   "outputs": [],
   "source": [
    "import pandas as pd\n",
    "import numpy as np\n",
    "\n",
    "import matplotlib.pyplot as plt\n",
    "import seaborn as sns\n",
    "import os\n",
    "\n",
    "from scipy import stats\n",
    "\n",
    "from sklearn.model_selection import train_test_split\n",
    "\n",
    "from sklearn.ensemble import RandomForestClassifier\n",
    "from sklearn.tree import DecisionTreeClassifier, plot_tree\n",
    "from sklearn.neighbors import KNeighborsClassifier\n",
    "from sklearn.linear_model import LogisticRegression\n",
    "\n",
    "import warnings\n",
    "warnings.filterwarnings(\"ignore\")\n",
    "\n",
    "import acquire\n",
    "import prepare"
   ]
  },
  {
   "cell_type": "markdown",
   "id": "further-swimming",
   "metadata": {},
   "source": [
    "# Acquire\n",
    "\n",
    "* Data acquired from Codeup SQL Database\n",
    "* It contained `____` rows and `____` columns before cleaning\n",
    "* Each row represents a customer\n",
    "* Each column represents a feature of those customers"
   ]
  },
  {
   "cell_type": "markdown",
   "id": "strategic-steering",
   "metadata": {},
   "source": [
    "# Prepare\n",
    "\n",
    "**Prepare Actions:**\n",
    "* Removed columns that did not contain useful information\n",
    "* Renamed columns to promote readability\n",
    "* Checked for nulls in the data (there were none)\n",
    "* Checked that column data types were appropriate\n",
    "* Removed white space from values in object columns\n",
    "* Added Target column 'upset' indicating weather the lower rated player won the game\n",
    "* Added additional features to investigate:\n",
    "    * Rating Difference\n",
    "    * Game Rating\n",
    "    * Lower Rated White\n",
    "    * Time Control Group\n",
    "    * Upset\n",
    "* Encoded categorical variables\n",
    "* Split data into train, validate and test (approx. 80/20/10), stratifying on 'upset'\n",
    "* Scaled continuous variable\n",
    "* Outliers have not been removed for this iteration of the project"
   ]
  },
  {
   "cell_type": "markdown",
   "id": "53249c35",
   "metadata": {},
   "source": [
    "# Data Dictionary"
   ]
  },
  {
   "cell_type": "code",
   "execution_count": 2,
   "id": "b9f2135e",
   "metadata": {},
   "outputs": [
    {
     "data": {
      "text/html": [
       "<style>\n",
       "table {float:left}\n",
       "</style>\n"
      ],
      "text/plain": [
       "<IPython.core.display.HTML object>"
      ]
     },
     "metadata": {},
     "output_type": "display_data"
    }
   ],
   "source": [
    "%%html\n",
    "<style>\n",
    "table {float:left}\n",
    "</style>"
   ]
  },
  {
   "cell_type": "markdown",
   "id": "purple-plymouth",
   "metadata": {},
   "source": [
    "| Feature | Definition |\n",
    "|:--------|:-----------|\n",
    "|Churn| Customer leaving the company|\n",
    "| Total Addons | Number of additional service besides phone and internet|"
   ]
  },
  {
   "cell_type": "code",
   "execution_count": 3,
   "id": "pressing-legislation",
   "metadata": {
    "scrolled": false
   },
   "outputs": [],
   "source": [
    "# acquiring, cleaning, and adding features to data\n",
    "df = acquire.get_telco_data()\n",
    "df = prepare.clean_telco_data(df)\n",
    "\n",
    "# splitting data into train, validate, and test\n",
    "train, validate, test = prepare.split_telco_data(df)"
   ]
  },
  {
   "cell_type": "markdown",
   "id": "tutorial-continuity",
   "metadata": {},
   "source": [
    "## A brief look at the data"
   ]
  },
  {
   "cell_type": "code",
   "execution_count": 5,
   "id": "clear-junior",
   "metadata": {
    "scrolled": true
   },
   "outputs": [
    {
     "data": {
      "text/html": [
       "<div>\n",
       "<style scoped>\n",
       "    .dataframe tbody tr th:only-of-type {\n",
       "        vertical-align: middle;\n",
       "    }\n",
       "\n",
       "    .dataframe tbody tr th {\n",
       "        vertical-align: top;\n",
       "    }\n",
       "\n",
       "    .dataframe thead th {\n",
       "        text-align: right;\n",
       "    }\n",
       "</style>\n",
       "<table border=\"1\" class=\"dataframe\">\n",
       "  <thead>\n",
       "    <tr style=\"text-align: right;\">\n",
       "      <th></th>\n",
       "      <th>customer_id</th>\n",
       "      <th>gender</th>\n",
       "      <th>senior_citizen</th>\n",
       "      <th>partner</th>\n",
       "      <th>dependents</th>\n",
       "      <th>tenure</th>\n",
       "      <th>phone_service</th>\n",
       "      <th>multiple_lines</th>\n",
       "      <th>online_security</th>\n",
       "      <th>online_backup</th>\n",
       "      <th>...</th>\n",
       "      <th>streaming_tv_Yes</th>\n",
       "      <th>streaming_movies_No internet service</th>\n",
       "      <th>streaming_movies_Yes</th>\n",
       "      <th>contract_type_One year</th>\n",
       "      <th>contract_type_Two year</th>\n",
       "      <th>internet_service_type_Fiber optic</th>\n",
       "      <th>internet_service_type_None</th>\n",
       "      <th>payment_type_Credit card (automatic)</th>\n",
       "      <th>payment_type_Electronic check</th>\n",
       "      <th>payment_type_Mailed check</th>\n",
       "    </tr>\n",
       "  </thead>\n",
       "  <tbody>\n",
       "    <tr>\n",
       "      <th>6830</th>\n",
       "      <td>9388-ZEYVT</td>\n",
       "      <td>Male</td>\n",
       "      <td>0</td>\n",
       "      <td>No</td>\n",
       "      <td>No</td>\n",
       "      <td>43</td>\n",
       "      <td>No</td>\n",
       "      <td>No phone service</td>\n",
       "      <td>No</td>\n",
       "      <td>No</td>\n",
       "      <td>...</td>\n",
       "      <td>0</td>\n",
       "      <td>0</td>\n",
       "      <td>1</td>\n",
       "      <td>1</td>\n",
       "      <td>0</td>\n",
       "      <td>0</td>\n",
       "      <td>0</td>\n",
       "      <td>0</td>\n",
       "      <td>1</td>\n",
       "      <td>0</td>\n",
       "    </tr>\n",
       "    <tr>\n",
       "      <th>433</th>\n",
       "      <td>0635-WKOLD</td>\n",
       "      <td>Male</td>\n",
       "      <td>0</td>\n",
       "      <td>Yes</td>\n",
       "      <td>No</td>\n",
       "      <td>40</td>\n",
       "      <td>Yes</td>\n",
       "      <td>Yes</td>\n",
       "      <td>No</td>\n",
       "      <td>Yes</td>\n",
       "      <td>...</td>\n",
       "      <td>1</td>\n",
       "      <td>0</td>\n",
       "      <td>0</td>\n",
       "      <td>1</td>\n",
       "      <td>0</td>\n",
       "      <td>0</td>\n",
       "      <td>0</td>\n",
       "      <td>1</td>\n",
       "      <td>0</td>\n",
       "      <td>0</td>\n",
       "    </tr>\n",
       "    <tr>\n",
       "      <th>25</th>\n",
       "      <td>0032-PGELS</td>\n",
       "      <td>Female</td>\n",
       "      <td>0</td>\n",
       "      <td>Yes</td>\n",
       "      <td>Yes</td>\n",
       "      <td>1</td>\n",
       "      <td>No</td>\n",
       "      <td>No phone service</td>\n",
       "      <td>Yes</td>\n",
       "      <td>No</td>\n",
       "      <td>...</td>\n",
       "      <td>0</td>\n",
       "      <td>0</td>\n",
       "      <td>0</td>\n",
       "      <td>0</td>\n",
       "      <td>0</td>\n",
       "      <td>0</td>\n",
       "      <td>0</td>\n",
       "      <td>0</td>\n",
       "      <td>0</td>\n",
       "      <td>0</td>\n",
       "    </tr>\n",
       "  </tbody>\n",
       "</table>\n",
       "<p>3 rows × 50 columns</p>\n",
       "</div>"
      ],
      "text/plain": [
       "     customer_id  gender  senior_citizen partner dependents  tenure  \\\n",
       "6830  9388-ZEYVT    Male               0      No         No      43   \n",
       "433   0635-WKOLD    Male               0     Yes         No      40   \n",
       "25    0032-PGELS  Female               0     Yes        Yes       1   \n",
       "\n",
       "     phone_service    multiple_lines online_security online_backup  ...  \\\n",
       "6830            No  No phone service              No            No  ...   \n",
       "433            Yes               Yes              No           Yes  ...   \n",
       "25              No  No phone service             Yes            No  ...   \n",
       "\n",
       "     streaming_tv_Yes streaming_movies_No internet service  \\\n",
       "6830                0                                    0   \n",
       "433                 1                                    0   \n",
       "25                  0                                    0   \n",
       "\n",
       "     streaming_movies_Yes contract_type_One year contract_type_Two year  \\\n",
       "6830                    1                      1                      0   \n",
       "433                     0                      1                      0   \n",
       "25                      0                      0                      0   \n",
       "\n",
       "      internet_service_type_Fiber optic  internet_service_type_None  \\\n",
       "6830                                  0                           0   \n",
       "433                                   0                           0   \n",
       "25                                    0                           0   \n",
       "\n",
       "     payment_type_Credit card (automatic) payment_type_Electronic check  \\\n",
       "6830                                    0                             1   \n",
       "433                                     1                             0   \n",
       "25                                      0                             0   \n",
       "\n",
       "     payment_type_Mailed check  \n",
       "6830                         0  \n",
       "433                          0  \n",
       "25                           0  \n",
       "\n",
       "[3 rows x 50 columns]"
      ]
     },
     "execution_count": 5,
     "metadata": {},
     "output_type": "execute_result"
    }
   ],
   "source": [
    "train.head(3)"
   ]
  },
  {
   "cell_type": "markdown",
   "id": "mature-partition",
   "metadata": {},
   "source": [
    "## A summary of the data"
   ]
  },
  {
   "cell_type": "code",
   "execution_count": 6,
   "id": "alien-topic",
   "metadata": {},
   "outputs": [
    {
     "data": {
      "text/html": [
       "<div>\n",
       "<style scoped>\n",
       "    .dataframe tbody tr th:only-of-type {\n",
       "        vertical-align: middle;\n",
       "    }\n",
       "\n",
       "    .dataframe tbody tr th {\n",
       "        vertical-align: top;\n",
       "    }\n",
       "\n",
       "    .dataframe thead th {\n",
       "        text-align: right;\n",
       "    }\n",
       "</style>\n",
       "<table border=\"1\" class=\"dataframe\">\n",
       "  <thead>\n",
       "    <tr style=\"text-align: right;\">\n",
       "      <th></th>\n",
       "      <th>senior_citizen</th>\n",
       "      <th>tenure</th>\n",
       "      <th>monthly_charges</th>\n",
       "      <th>total_charges</th>\n",
       "      <th>gender_encoded</th>\n",
       "      <th>partner_encoded</th>\n",
       "      <th>dependents_encoded</th>\n",
       "      <th>phone_service_encoded</th>\n",
       "      <th>paperless_billing_encoded</th>\n",
       "      <th>churn_encoded</th>\n",
       "      <th>...</th>\n",
       "      <th>streaming_tv_Yes</th>\n",
       "      <th>streaming_movies_No internet service</th>\n",
       "      <th>streaming_movies_Yes</th>\n",
       "      <th>contract_type_One year</th>\n",
       "      <th>contract_type_Two year</th>\n",
       "      <th>internet_service_type_Fiber optic</th>\n",
       "      <th>internet_service_type_None</th>\n",
       "      <th>payment_type_Credit card (automatic)</th>\n",
       "      <th>payment_type_Electronic check</th>\n",
       "      <th>payment_type_Mailed check</th>\n",
       "    </tr>\n",
       "  </thead>\n",
       "  <tbody>\n",
       "    <tr>\n",
       "      <th>count</th>\n",
       "      <td>3943.000000</td>\n",
       "      <td>3943.000000</td>\n",
       "      <td>3943.000000</td>\n",
       "      <td>3943.000000</td>\n",
       "      <td>3943.000000</td>\n",
       "      <td>3943.000000</td>\n",
       "      <td>3943.000000</td>\n",
       "      <td>3943.000000</td>\n",
       "      <td>3943.000000</td>\n",
       "      <td>3943.000000</td>\n",
       "      <td>...</td>\n",
       "      <td>3943.000000</td>\n",
       "      <td>3943.000000</td>\n",
       "      <td>3943.000000</td>\n",
       "      <td>3943.000000</td>\n",
       "      <td>3943.000000</td>\n",
       "      <td>3943.000000</td>\n",
       "      <td>3943.000000</td>\n",
       "      <td>3943.000000</td>\n",
       "      <td>3943.000000</td>\n",
       "      <td>3943.000000</td>\n",
       "    </tr>\n",
       "    <tr>\n",
       "      <th>mean</th>\n",
       "      <td>0.163835</td>\n",
       "      <td>32.845803</td>\n",
       "      <td>65.051458</td>\n",
       "      <td>3324.330079</td>\n",
       "      <td>0.497844</td>\n",
       "      <td>0.478062</td>\n",
       "      <td>0.299518</td>\n",
       "      <td>0.901344</td>\n",
       "      <td>0.592696</td>\n",
       "      <td>0.265280</td>\n",
       "      <td>...</td>\n",
       "      <td>0.390566</td>\n",
       "      <td>0.214050</td>\n",
       "      <td>0.394877</td>\n",
       "      <td>0.210500</td>\n",
       "      <td>0.242962</td>\n",
       "      <td>0.442556</td>\n",
       "      <td>0.214050</td>\n",
       "      <td>0.220137</td>\n",
       "      <td>0.339843</td>\n",
       "      <td>0.227999</td>\n",
       "    </tr>\n",
       "    <tr>\n",
       "      <th>std</th>\n",
       "      <td>0.370172</td>\n",
       "      <td>24.474291</td>\n",
       "      <td>30.170974</td>\n",
       "      <td>6956.460387</td>\n",
       "      <td>0.500059</td>\n",
       "      <td>0.499582</td>\n",
       "      <td>0.458105</td>\n",
       "      <td>0.298237</td>\n",
       "      <td>0.491395</td>\n",
       "      <td>0.441538</td>\n",
       "      <td>...</td>\n",
       "      <td>0.487939</td>\n",
       "      <td>0.410214</td>\n",
       "      <td>0.488886</td>\n",
       "      <td>0.407715</td>\n",
       "      <td>0.428927</td>\n",
       "      <td>0.496752</td>\n",
       "      <td>0.410214</td>\n",
       "      <td>0.414391</td>\n",
       "      <td>0.473716</td>\n",
       "      <td>0.419595</td>\n",
       "    </tr>\n",
       "    <tr>\n",
       "      <th>min</th>\n",
       "      <td>0.000000</td>\n",
       "      <td>0.000000</td>\n",
       "      <td>18.400000</td>\n",
       "      <td>0.000000</td>\n",
       "      <td>0.000000</td>\n",
       "      <td>0.000000</td>\n",
       "      <td>0.000000</td>\n",
       "      <td>0.000000</td>\n",
       "      <td>0.000000</td>\n",
       "      <td>0.000000</td>\n",
       "      <td>...</td>\n",
       "      <td>0.000000</td>\n",
       "      <td>0.000000</td>\n",
       "      <td>0.000000</td>\n",
       "      <td>0.000000</td>\n",
       "      <td>0.000000</td>\n",
       "      <td>0.000000</td>\n",
       "      <td>0.000000</td>\n",
       "      <td>0.000000</td>\n",
       "      <td>0.000000</td>\n",
       "      <td>0.000000</td>\n",
       "    </tr>\n",
       "    <tr>\n",
       "      <th>25%</th>\n",
       "      <td>0.000000</td>\n",
       "      <td>9.000000</td>\n",
       "      <td>36.475000</td>\n",
       "      <td>442.650000</td>\n",
       "      <td>0.000000</td>\n",
       "      <td>0.000000</td>\n",
       "      <td>0.000000</td>\n",
       "      <td>1.000000</td>\n",
       "      <td>0.000000</td>\n",
       "      <td>0.000000</td>\n",
       "      <td>...</td>\n",
       "      <td>0.000000</td>\n",
       "      <td>0.000000</td>\n",
       "      <td>0.000000</td>\n",
       "      <td>0.000000</td>\n",
       "      <td>0.000000</td>\n",
       "      <td>0.000000</td>\n",
       "      <td>0.000000</td>\n",
       "      <td>0.000000</td>\n",
       "      <td>0.000000</td>\n",
       "      <td>0.000000</td>\n",
       "    </tr>\n",
       "    <tr>\n",
       "      <th>50%</th>\n",
       "      <td>0.000000</td>\n",
       "      <td>30.000000</td>\n",
       "      <td>70.200000</td>\n",
       "      <td>1533.800000</td>\n",
       "      <td>0.000000</td>\n",
       "      <td>0.000000</td>\n",
       "      <td>0.000000</td>\n",
       "      <td>1.000000</td>\n",
       "      <td>1.000000</td>\n",
       "      <td>0.000000</td>\n",
       "      <td>...</td>\n",
       "      <td>0.000000</td>\n",
       "      <td>0.000000</td>\n",
       "      <td>0.000000</td>\n",
       "      <td>0.000000</td>\n",
       "      <td>0.000000</td>\n",
       "      <td>0.000000</td>\n",
       "      <td>0.000000</td>\n",
       "      <td>0.000000</td>\n",
       "      <td>0.000000</td>\n",
       "      <td>0.000000</td>\n",
       "    </tr>\n",
       "    <tr>\n",
       "      <th>75%</th>\n",
       "      <td>0.000000</td>\n",
       "      <td>56.000000</td>\n",
       "      <td>90.100000</td>\n",
       "      <td>4229.400000</td>\n",
       "      <td>1.000000</td>\n",
       "      <td>1.000000</td>\n",
       "      <td>1.000000</td>\n",
       "      <td>1.000000</td>\n",
       "      <td>1.000000</td>\n",
       "      <td>1.000000</td>\n",
       "      <td>...</td>\n",
       "      <td>1.000000</td>\n",
       "      <td>0.000000</td>\n",
       "      <td>1.000000</td>\n",
       "      <td>0.000000</td>\n",
       "      <td>0.000000</td>\n",
       "      <td>1.000000</td>\n",
       "      <td>0.000000</td>\n",
       "      <td>0.000000</td>\n",
       "      <td>1.000000</td>\n",
       "      <td>0.000000</td>\n",
       "    </tr>\n",
       "    <tr>\n",
       "      <th>max</th>\n",
       "      <td>1.000000</td>\n",
       "      <td>72.000000</td>\n",
       "      <td>118.750000</td>\n",
       "      <td>84050.000000</td>\n",
       "      <td>1.000000</td>\n",
       "      <td>1.000000</td>\n",
       "      <td>1.000000</td>\n",
       "      <td>1.000000</td>\n",
       "      <td>1.000000</td>\n",
       "      <td>1.000000</td>\n",
       "      <td>...</td>\n",
       "      <td>1.000000</td>\n",
       "      <td>1.000000</td>\n",
       "      <td>1.000000</td>\n",
       "      <td>1.000000</td>\n",
       "      <td>1.000000</td>\n",
       "      <td>1.000000</td>\n",
       "      <td>1.000000</td>\n",
       "      <td>1.000000</td>\n",
       "      <td>1.000000</td>\n",
       "      <td>1.000000</td>\n",
       "    </tr>\n",
       "  </tbody>\n",
       "</table>\n",
       "<p>8 rows × 31 columns</p>\n",
       "</div>"
      ],
      "text/plain": [
       "       senior_citizen       tenure  monthly_charges  total_charges  \\\n",
       "count     3943.000000  3943.000000      3943.000000    3943.000000   \n",
       "mean         0.163835    32.845803        65.051458    3324.330079   \n",
       "std          0.370172    24.474291        30.170974    6956.460387   \n",
       "min          0.000000     0.000000        18.400000       0.000000   \n",
       "25%          0.000000     9.000000        36.475000     442.650000   \n",
       "50%          0.000000    30.000000        70.200000    1533.800000   \n",
       "75%          0.000000    56.000000        90.100000    4229.400000   \n",
       "max          1.000000    72.000000       118.750000   84050.000000   \n",
       "\n",
       "       gender_encoded  partner_encoded  dependents_encoded  \\\n",
       "count     3943.000000      3943.000000         3943.000000   \n",
       "mean         0.497844         0.478062            0.299518   \n",
       "std          0.500059         0.499582            0.458105   \n",
       "min          0.000000         0.000000            0.000000   \n",
       "25%          0.000000         0.000000            0.000000   \n",
       "50%          0.000000         0.000000            0.000000   \n",
       "75%          1.000000         1.000000            1.000000   \n",
       "max          1.000000         1.000000            1.000000   \n",
       "\n",
       "       phone_service_encoded  paperless_billing_encoded  churn_encoded  ...  \\\n",
       "count            3943.000000                3943.000000    3943.000000  ...   \n",
       "mean                0.901344                   0.592696       0.265280  ...   \n",
       "std                 0.298237                   0.491395       0.441538  ...   \n",
       "min                 0.000000                   0.000000       0.000000  ...   \n",
       "25%                 1.000000                   0.000000       0.000000  ...   \n",
       "50%                 1.000000                   1.000000       0.000000  ...   \n",
       "75%                 1.000000                   1.000000       1.000000  ...   \n",
       "max                 1.000000                   1.000000       1.000000  ...   \n",
       "\n",
       "       streaming_tv_Yes  streaming_movies_No internet service  \\\n",
       "count       3943.000000                           3943.000000   \n",
       "mean           0.390566                              0.214050   \n",
       "std            0.487939                              0.410214   \n",
       "min            0.000000                              0.000000   \n",
       "25%            0.000000                              0.000000   \n",
       "50%            0.000000                              0.000000   \n",
       "75%            1.000000                              0.000000   \n",
       "max            1.000000                              1.000000   \n",
       "\n",
       "       streaming_movies_Yes  contract_type_One year  contract_type_Two year  \\\n",
       "count           3943.000000             3943.000000             3943.000000   \n",
       "mean               0.394877                0.210500                0.242962   \n",
       "std                0.488886                0.407715                0.428927   \n",
       "min                0.000000                0.000000                0.000000   \n",
       "25%                0.000000                0.000000                0.000000   \n",
       "50%                0.000000                0.000000                0.000000   \n",
       "75%                1.000000                0.000000                0.000000   \n",
       "max                1.000000                1.000000                1.000000   \n",
       "\n",
       "       internet_service_type_Fiber optic  internet_service_type_None  \\\n",
       "count                        3943.000000                 3943.000000   \n",
       "mean                            0.442556                    0.214050   \n",
       "std                             0.496752                    0.410214   \n",
       "min                             0.000000                    0.000000   \n",
       "25%                             0.000000                    0.000000   \n",
       "50%                             0.000000                    0.000000   \n",
       "75%                             1.000000                    0.000000   \n",
       "max                             1.000000                    1.000000   \n",
       "\n",
       "       payment_type_Credit card (automatic)  payment_type_Electronic check  \\\n",
       "count                           3943.000000                    3943.000000   \n",
       "mean                               0.220137                       0.339843   \n",
       "std                                0.414391                       0.473716   \n",
       "min                                0.000000                       0.000000   \n",
       "25%                                0.000000                       0.000000   \n",
       "50%                                0.000000                       0.000000   \n",
       "75%                                0.000000                       1.000000   \n",
       "max                                1.000000                       1.000000   \n",
       "\n",
       "       payment_type_Mailed check  \n",
       "count                3943.000000  \n",
       "mean                    0.227999  \n",
       "std                     0.419595  \n",
       "min                     0.000000  \n",
       "25%                     0.000000  \n",
       "50%                     0.000000  \n",
       "75%                     0.000000  \n",
       "max                     1.000000  \n",
       "\n",
       "[8 rows x 31 columns]"
      ]
     },
     "execution_count": 6,
     "metadata": {},
     "output_type": "execute_result"
    }
   ],
   "source": [
    "train.describe()"
   ]
  },
  {
   "cell_type": "markdown",
   "id": "local-paper",
   "metadata": {},
   "source": [
    "# Explore"
   ]
  },
  {
   "cell_type": "markdown",
   "id": "considerable-attendance",
   "metadata": {},
   "source": [
    "## 1. How often does churn occur?"
   ]
  },
  {
   "cell_type": "code",
   "execution_count": 7,
   "id": "c4f07b41",
   "metadata": {},
   "outputs": [
    {
     "data": {
      "text/plain": [
       "1869"
      ]
     },
     "execution_count": 7,
     "metadata": {},
     "output_type": "execute_result"
    }
   ],
   "source": [
    "df[df['churn']==\"Yes\"]['churn'].count()"
   ]
  },
  {
   "cell_type": "code",
   "execution_count": 8,
   "id": "4097c346",
   "metadata": {},
   "outputs": [
    {
     "data": {
      "image/png": "[encoded data removed]",
      "text/plain": [
       "<Figure size 640x480 with 1 Axes>"
      ]
     },
     "metadata": {},
     "output_type": "display_data"
    }
   ],
   "source": [
    "sns.countplot(x=df[\"churn\"])\n",
    "plt.show()"
   ]
  },
  {
   "cell_type": "code",
   "execution_count": 9,
   "id": "79303949",
   "metadata": {},
   "outputs": [
    {
     "data": {
      "image/png": "[encoded data removed]",
      "text/plain": [
       "<Figure size 640x480 with 1 Axes>"
      ]
     },
     "metadata": {},
     "output_type": "display_data"
    }
   ],
   "source": [
    "pie=df.groupby(['churn'])['churn'].count().plot(kind='pie', use_index=True, legend=True)\n",
    "plt.show()"
   ]
  },
  {
   "cell_type": "markdown",
   "id": "continued-committee",
   "metadata": {},
   "source": [
    "* About 1/3 of the games in the training data will end in upset"
   ]
  },
  {
   "cell_type": "markdown",
   "id": "wound-gothic",
   "metadata": {},
   "source": [
    "## 2. Are senior citizen more likely to churn?"
   ]
  },
  {
   "cell_type": "markdown",
   "id": "modern-wilderness",
   "metadata": {},
   "source": [
    "**I will now use a chi-square test to investigate the question of whether `churn` is independent of being a `senior_citizen`.**\n",
    "* I will use a confidence interval of 95% \n",
    "* The resulting alpha is .05<br>\n",
    "\n",
    "**- $H_{0}$ (Null Hypothesis): `churn` is independent of being a `senior_citizen`.**\n",
    "\n",
    "**- $H_{a}$ (Alternative Hypothesis): `churn` is dependent on being a `senior_citizen`.**"
   ]
  },
  {
   "cell_type": "code",
   "execution_count": 10,
   "id": "f6ad0aac",
   "metadata": {},
   "outputs": [
    {
     "name": "stdout",
     "output_type": "stream",
     "text": [
      "Observed Values\n",
      "\n",
      "[[4508 1393]\n",
      " [ 666  476]]\n",
      "------\n",
      "Expected Values\n",
      "\n",
      "[[4335 1565]\n",
      " [ 838  303]]\n",
      "-----\n",
      "\n",
      "chi^2 =  159.4263\n",
      "p-value =  0.0000\n",
      "Is p-value < alpha? True\n"
     ]
    },
    {
     "data": {
      "text/plain": [
       "'There exists some relationship between senior_citizen and churn. (p-value: 0.0000)'"
      ]
     },
     "execution_count": 10,
     "metadata": {},
     "output_type": "execute_result"
    }
   ],
   "source": [
    "group1='senior_citizen'\n",
    "group2='churn'\n",
    "observed = pd.crosstab(df[group1], df[group2])\n",
    "alpha = 0.05\n",
    "chi2, p, dof, expected = stats.chi2_contingency(observed)\n",
    "observed_out = observed.values\n",
    "expected_out = expected.astype(int)\n",
    "# print 'Observed Values' followed by a new line\n",
    "print('Observed Values\\n')\n",
    "\n",
    "# print the values from the 'observed' dataframe\n",
    "print(observed_out)\n",
    "\n",
    "# print --- and then a new line, 'Expected Values', followed by another new line\n",
    "print('------\\nExpected Values\\n')\n",
    "\n",
    "# print the expected values array\n",
    "print(expected_out)\n",
    "\n",
    "# print a new line\n",
    "print('-----\\n')\n",
    "\n",
    "# print the chi2 value, formatted to a float with 4 digits. \n",
    "print(f'chi^2 = {chi2: .4f}')\n",
    "\n",
    "# print the p-value, formatted to a float with 4 digits. \n",
    "print(f'p-value = {p: .4f}')\n",
    "print('Is p-value < alpha?', p < alpha)\n",
    "\n",
    "prepare.eval_results(p, alpha, group1, group2)"
   ]
  },
  {
   "cell_type": "markdown",
   "id": "cognitive-brook",
   "metadata": {},
   "source": [
    "**Therefore, we have evidence to support that \"`senior_citizen`\" and \"`churn`\" are related. Based on this observed in the train data, I believe that using the \"`senior_citizen`\" feature in modeling will likely have a small positive impact on the model's accuracy.**"
   ]
  },
  {
   "cell_type": "code",
   "execution_count": 26,
   "id": "880a1294",
   "metadata": {},
   "outputs": [
    {
     "data": {
      "image/png": "[encoded data removed]",
      "text/plain": [
       "<Figure size 640x480 with 1 Axes>"
      ]
     },
     "metadata": {},
     "output_type": "display_data"
    }
   ],
   "source": [
    "sns.countplot(data=df, x=\"churn\", hue=\"senior_citizen\")\n",
    "plt.show()"
   ]
  },
  {
   "cell_type": "markdown",
   "id": "environmental-longitude",
   "metadata": {},
   "source": [
    "## 3. Does `total_addons` affect churn?"
   ]
  },
  {
   "cell_type": "markdown",
   "id": "cdd4899b",
   "metadata": {},
   "source": [
    "**I will now use a chi-square test to investigate if `total_addons` and `churn` are related.**\n",
    "We will investigate the question of whether `total_addons` is independent of `churn`.\n",
    "\n",
    "- $H_{0}$ (Null Hypothesis): `total_addons` is independent of `churn`. \n",
    "\n",
    "- $H_{a}$ (Alternative Hypothesis): `total_addons` is dependent on `churn`. "
   ]
  },
  {
   "cell_type": "markdown",
   "id": "bdbfdd10",
   "metadata": {},
   "source": [
    "# created new feature"
   ]
  },
  {
   "cell_type": "code",
   "execution_count": 15,
   "id": "e309d33e",
   "metadata": {
    "scrolled": false
   },
   "outputs": [
    {
     "name": "stdout",
     "output_type": "stream",
     "text": [
      "Observed Values\n",
      "\n",
      "[[1744  475]\n",
      " [ 524  442]\n",
      " [ 663  370]\n",
      " [ 812  306]\n",
      " [ 662  190]\n",
      " [ 500   71]\n",
      " [ 269   15]]\n",
      "------\n",
      "Expected Values\n",
      "\n",
      "[[1630  588]\n",
      " [ 709  256]\n",
      " [ 758  274]\n",
      " [ 821  296]\n",
      " [ 625  226]\n",
      " [ 419  151]\n",
      " [ 208   75]]\n",
      "-----\n",
      "\n",
      "chi^2 =  390.9430\n",
      "p-value =  0.0000\n",
      "Is p-value < alpha? True\n"
     ]
    },
    {
     "data": {
      "text/plain": [
       "'There exists some relationship between addon_sum and churn. (p-value: 0.0000)'"
      ]
     },
     "execution_count": 15,
     "metadata": {},
     "output_type": "execute_result"
    }
   ],
   "source": [
    "addons = ['online_security','online_backup','device_protection', 'tech_support', 'streaming_tv','streaming_movies']\n",
    "addon_sum=(df[addons]=='Yes').sum(axis=1)\n",
    "df=df.assign(addon_sum=addon_sum)\n",
    "\n",
    "group1='addon_sum'\n",
    "group2='churn'\n",
    "\n",
    "observed = pd.crosstab(df[group1], df[group2])\n",
    "alpha = 0.05\n",
    "chi2, p, dof, expected = stats.chi2_contingency(observed)\n",
    "observed_out = observed.values\n",
    "expected_out = expected.astype(int)\n",
    "# print 'Observed Values' followed by a new line\n",
    "print('Observed Values\\n')\n",
    "\n",
    "# print the values from the 'observed' dataframe\n",
    "print(observed_out)\n",
    "\n",
    "# print --- and then a new line, 'Expected Values', followed by another new line\n",
    "print('------\\nExpected Values\\n')\n",
    "\n",
    "# print the expected values array\n",
    "print(expected_out)\n",
    "\n",
    "# print a new line\n",
    "print('-----\\n')\n",
    "\n",
    "# print the chi2 value, formatted to a float with 4 digits. \n",
    "print(f'chi^2 = {chi2: .4f}')\n",
    "\n",
    "# print the p-value, formatted to a float with 4 digits. \n",
    "print(f'p-value = {p: .4f}')\n",
    "print('Is p-value < alpha?', p < alpha)\n",
    "\n",
    "prepare.eval_results(p, alpha, group1, group2)"
   ]
  },
  {
   "cell_type": "markdown",
   "id": "06fe32b1",
   "metadata": {},
   "source": [
    "**The p-value is less than the alpha. Therefore, we have evidence to support that `addon_sum` and `churn` are related. Based on this observed in the train data, I believe that using the `addon_sum` feature in modeling will likely have a small positive impact on the model's accuracy.**"
   ]
  },
  {
   "cell_type": "code",
   "execution_count": 20,
   "id": "d955c105",
   "metadata": {},
   "outputs": [
    {
     "data": {
      "image/png": "[encoded data removed]",
      "text/plain": [
       "<Figure size 700x400 with 1 Axes>"
      ]
     },
     "metadata": {},
     "output_type": "display_data"
    }
   ],
   "source": [
    "CrosstabResult=pd.crosstab(index=df[group1],columns=df[group2])\n",
    "CrosstabResult.plot.bar(figsize=(7,4), rot=0)\n",
    "plt.show()"
   ]
  },
  {
   "cell_type": "code",
   "execution_count": 17,
   "id": "6f49ca23",
   "metadata": {},
   "outputs": [
    {
     "data": {
      "image/png": "[encoded data removed]",
      "text/plain": [
       "<Figure size 640x480 with 1 Axes>"
      ]
     },
     "metadata": {},
     "output_type": "display_data"
    }
   ],
   "source": [
    "plt.title(\"Average Addon\")\n",
    "sns.barplot(x=\"churn\", y=\"addon_sum\", data=df)\n",
    "total_addon_average = df[\"addon_sum\"].mean()\n",
    "plt.axhline(total_addon_average, label=\"Average Addon Total\")\n",
    "plt.legend()\n",
    "plt.show()"
   ]
  },
  {
   "cell_type": "markdown",
   "id": "866abce2",
   "metadata": {},
   "source": [
    "## 4. Does `tech_support` affect churn?"
   ]
  },
  {
   "cell_type": "markdown",
   "id": "f959e2f2",
   "metadata": {},
   "source": [
    "**I will now use a chi-square test to investigate if `tech_support` and `churn` are related.**\n",
    "We will investigate the question of whether `tech_support` is independent of `churn`.\n",
    "\n",
    "- $H_{0}$ (Null Hypothesis): `tech_support` is independent of `churn`. \n",
    "\n",
    "- $H_{a}$ (Alternative Hypothesis): `tech_support` is dependent on `churn`. "
   ]
  },
  {
   "cell_type": "code",
   "execution_count": 21,
   "id": "bc755bbd",
   "metadata": {},
   "outputs": [],
   "source": [
    "group1='tech_support'\n",
    "group2='churn'"
   ]
  },
  {
   "cell_type": "code",
   "execution_count": 22,
   "id": "288dff54",
   "metadata": {
    "scrolled": false
   },
   "outputs": [
    {
     "name": "stdout",
     "output_type": "stream",
     "text": [
      "Observed Values\n",
      "\n",
      "[[2027 1446]\n",
      " [1413  113]\n",
      " [1734  310]]\n",
      "------\n",
      "Expected Values\n",
      "\n",
      "[[2551  921]\n",
      " [1121  404]\n",
      " [1501  542]]\n",
      "-----\n",
      "\n",
      "chi^2 =  828.1971\n",
      "p-value =  0.0000\n",
      "Is p-value < alpha? True\n"
     ]
    },
    {
     "data": {
      "text/plain": [
       "'There exists some relationship between tech_support and churn. (p-value: 0.0000)'"
      ]
     },
     "execution_count": 22,
     "metadata": {},
     "output_type": "execute_result"
    }
   ],
   "source": [
    "observed = pd.crosstab(df[group1], df[group2])\n",
    "alpha = 0.05\n",
    "chi2, p, dof, expected = stats.chi2_contingency(observed)\n",
    "observed_out = observed.values\n",
    "expected_out = expected.astype(int)\n",
    "# print 'Observed Values' followed by a new line\n",
    "print('Observed Values\\n')\n",
    "\n",
    "# print the values from the 'observed' dataframe\n",
    "print(observed_out)\n",
    "\n",
    "# print --- and then a new line, 'Expected Values', followed by another new line\n",
    "print('------\\nExpected Values\\n')\n",
    "\n",
    "# print the expected values array\n",
    "print(expected_out)\n",
    "\n",
    "# print a new line\n",
    "print('-----\\n')\n",
    "\n",
    "# print the chi2 value, formatted to a float with 4 digits. \n",
    "print(f'chi^2 = {chi2: .4f}')\n",
    "\n",
    "# print the p-value, formatted to a float with 4 digits. \n",
    "print(f'p-value = {p: .4f}')\n",
    "print('Is p-value < alpha?', p < alpha)\n",
    "\n",
    "prepare.eval_results(p, alpha, group1, group2)"
   ]
  },
  {
   "cell_type": "markdown",
   "id": "8b0ff822",
   "metadata": {},
   "source": [
    "**The p-value is less than the alpha. Therefore, we have evidence to support that `tech_support` and `churn` are related. Based on this observed in the train data, I believe that using the `tech_support` feature in modeling will likely have a small positive impact on the model's accuracy.**"
   ]
  },
  {
   "cell_type": "code",
   "execution_count": 23,
   "id": "076cd546",
   "metadata": {},
   "outputs": [
    {
     "data": {
      "image/png": "[encoded data removed]",
      "text/plain": [
       "<Figure size 640x480 with 1 Axes>"
      ]
     },
     "metadata": {},
     "output_type": "display_data"
    }
   ],
   "source": [
    "sns.countplot(data=df, x=\"churn\", hue=\"tech_support\")\n",
    "plt.show()"
   ]
  },
  {
   "cell_type": "markdown",
   "id": "still-industry",
   "metadata": {},
   "source": [
    "# Exploration Summary\n",
    "\n",
    "* \"Lower Rated White\" and \"Rated\" were each found to be drivers of \"Upset\"\n",
    "    * Though the amount of influence each has is likely to be weak\n",
    "* \"Rating Difference\" was found to be a driver of \"Upset\"\n",
    "* \"Time Control Group\" was found to be a driver of \"Upsets\" \n",
    "    * Being in the standard time control or not seemed to have a particularly strong influence.\n",
    "* \"Opening Name\" was found to be a driver of \"Upsets\" \n",
    "    * Upset percentage ranged from 20-37%\n",
    "    * encoding all of these features would result in more noise than signal to the model\n",
    "    * It may be possible to create groups of similar openings in order to make a more reasonable number features\n",
    "\n",
    "<br>\n",
    "* \"Game Rating\" was not found to be a driver of upsets\n",
    "<br>\n",
    "\n",
    "# Features I am moving to modeling With\n",
    "* \"Lower Rated White\" (small difference in upset percentage, but relationship to upsets is statistically significant)\n",
    "* \"Rated\" (small difference in upset percentage, but relationship to upsets is statistically significant)\n",
    "* \"Time Control standard\" (moderate difference in upset percentage, and dependance is statistically significant)\n",
    "* \"Rating Difference\" (Large difference in rating observed, and difference is significant)"
   ]
  },
  {
   "cell_type": "markdown",
   "id": "sonic-halifax",
   "metadata": {},
   "source": [
    "# Modeling\n",
    "* I will use accuracy as my evaluation metric  \n",
    "* non-upsets makeup 67% of the data \n",
    " <br>\n",
    "* by guessing non-upset for every game one could achieve an accuracy of 67%\n",
    "* 67% will be the baseline accuracy I use for this project\n",
    " <br>\n",
    "* I will be evaluating models developed using four different model types and various hyperparameter configurations \n",
    "* Models will be evaluated on train and validate data\n",
    "* The model that performs the best will then be evaluated on test data "
   ]
  },
  {
   "cell_type": "code",
   "execution_count": 27,
   "id": "e362997f",
   "metadata": {},
   "outputs": [],
   "source": [
    "train, validate, test = prepare.split_telco_data(df)\n",
    "X_train, y_train = prepare.model_telco_data(train)\n",
    "X_validate, y_validate = prepare.model_telco_data(validate)\n",
    "X_test, y_test = prepare.model_telco_data(test)"
   ]
  },
  {
   "cell_type": "markdown",
   "id": "ultimate-strength",
   "metadata": {},
   "source": [
    "## Random Forest"
   ]
  },
  {
   "cell_type": "code",
   "execution_count": 19,
   "id": "ancient-paste",
   "metadata": {},
   "outputs": [
    {
     "name": "stdout",
     "output_type": "stream",
     "text": [
      "Accuracy of Random Forest on train is 0.6726317663817664\n",
      "Accuracy of Random Forest on validate is 0.6726215205650187\n"
     ]
    }
   ],
   "source": [
    "# get random forest results\n",
    "m.get_forest(train_X, validate_X, train_y, validate_y)"
   ]
  },
  {
   "cell_type": "markdown",
   "id": "plastic-oxygen",
   "metadata": {},
   "source": [
    "* Random Forest accuracy is about equal to the baseline"
   ]
  },
  {
   "cell_type": "markdown",
   "id": "persistent-algorithm",
   "metadata": {},
   "source": [
    "## Logistic Regression"
   ]
  },
  {
   "cell_type": "code",
   "execution_count": 20,
   "id": "suspected-variety",
   "metadata": {},
   "outputs": [
    {
     "name": "stdout",
     "output_type": "stream",
     "text": [
      "Accuracy of Logistic Regression on train is 0.6726317663817664\n",
      "Accuracy of Logistic Regression on validate is 0.6726215205650187\n"
     ]
    }
   ],
   "source": [
    "# get logistic regression results\n",
    "m.get_reg(train_X, validate_X, train_y, validate_y)"
   ]
  },
  {
   "cell_type": "markdown",
   "id": "blank-station",
   "metadata": {},
   "source": [
    "* Logistic regression accuracy is about equal to the baseline\n"
   ]
  },
  {
   "cell_type": "markdown",
   "id": "balanced-india",
   "metadata": {},
   "source": [
    "## KNN"
   ]
  },
  {
   "cell_type": "code",
   "execution_count": 21,
   "id": "corporate-hanging",
   "metadata": {},
   "outputs": [
    {
     "name": "stdout",
     "output_type": "stream",
     "text": [
      "Accuracy of Logistic Regression on train is 0.6823361823361823\n",
      "Accuracy of Logistic Regression on validate is 0.6333610303282093\n"
     ]
    }
   ],
   "source": [
    "# get knn results\n",
    "m.get_knn(train_X, validate_X, train_y, validate_y)"
   ]
  },
  {
   "cell_type": "markdown",
   "id": "harmful-jewel",
   "metadata": {},
   "source": [
    "* Logistic regression accuracy is better than baseline on train, and worse than baseline on validate\n",
    "* It is likely over-fit"
   ]
  },
  {
   "cell_type": "markdown",
   "id": "ruled-denmark",
   "metadata": {},
   "source": [
    "# Comparing Models\n",
    "\n",
    "* Decision Tree, Random Forest, and Logistic Regression models all performed about equal to baseline on train and validate\n",
    "* The KNN model performed slightly better on train data but was worse on validate data. It is likely overfit.\n",
    "* Because the results of the Decision Tree, Random Forest, and Logistic Regression models were all very similar I could proceed to test with any of these models.\n",
    "* I have chosen to move forward with the Logistic Regression model"
   ]
  },
  {
   "cell_type": "markdown",
   "id": "vocal-screen",
   "metadata": {},
   "source": [
    "## Logistic Regression on Test"
   ]
  },
  {
   "cell_type": "code",
   "execution_count": 22,
   "id": "parliamentary-genetics",
   "metadata": {},
   "outputs": [
    {
     "name": "stdout",
     "output_type": "stream",
     "text": [
      "Accuracy of Logistic Regression on test is 0.6727318045862413\n"
     ]
    }
   ],
   "source": [
    "# get test results for final model\n",
    "m.get_reg_test(train_X, test_X, train_y, test_y)"
   ]
  },
  {
   "cell_type": "markdown",
   "id": "ideal-wallace",
   "metadata": {},
   "source": [
    "### Modeling Summary\n",
    "\n",
    "* Decision Tree, Random Forest, and Logistic Regression models all performed about equal to baseline on train and validate\n",
    "* The KNN model performed slightly better on train data but was worse on validate data. It is likely overfit.\n",
    "* A Logistic Regression model selected as the final model and had an accuracy of about 67% which is about equal to the baseline accuracy"
   ]
  },
  {
   "cell_type": "markdown",
   "id": "random-initial",
   "metadata": {},
   "source": [
    "# Conclusions\n",
    "\n",
    "### Exploration\n",
    "\n",
    "* Upsets in chess occur in about 1/3 of games\n",
    "* Games in which the lower rated player makes the first move, and games that are rated have a slightly higher chance of ending in an upset \n",
    "* Games ending in upset have a much lower mean difference in player rating than games not ending in upset\n",
    "* Games using shorter time control, such as Bullet, Blitz, and Rapid games, have an upset percentage that closely mirrors the overall upset percentage ranging from 30-34% while standard games have a much lower upset percentage at 22%\n",
    "* Looking at the top 10 openings in terms of frequency in the data set we can conclude that a given opening does affect the likelihood of a game ending in an upset. Upset percentages very by opening from 20-39%\n",
    "* The average rating of players in a game has no provable effect on the chance of that game ending in upset"
   ]
  },
  {
   "cell_type": "markdown",
   "id": "romantic-oriental",
   "metadata": {},
   "source": [
    "### Modeling\n",
    "\n",
    "**The final model failed to significantly outperform the baseline. Possible reasons include:**\n",
    "* “Rated” and “lower rated white” each only accounted for a small difference in the percentage of upsets\n",
    "* While “Opening Name” seemed to be a significant driver of upsets. It contains 1200+ values that, once encoded, would add an overwhelming number of features to the model. \n",
    "\n",
    "### Recommendations\n",
    "\n",
    "* To increase the skill intensity of a game add to the length of time players are able to consider their moves\n",
    "\n",
    "### Next Steps\n",
    "* Cluster together opening variants in \"Opening Name\" to reduce the number of features input into the model\n",
    "* Look for other ways to describe \"Opening Name\" Such as by popularity of the opening or average rating of players playing that opening"
   ]
  },
  {
   "cell_type": "markdown",
   "id": "c6823038",
   "metadata": {},
   "source": [
    "# To - Do"
   ]
  },
  {
   "cell_type": "markdown",
   "id": "f7f7f365",
   "metadata": {},
   "source": [
    "# `csv`"
   ]
  },
  {
   "cell_type": "code",
   "execution_count": null,
   "id": "bab1a40f",
   "metadata": {},
   "outputs": [],
   "source": [
    "Stats Test  *"
   ]
  },
  {
   "cell_type": "code",
   "execution_count": null,
   "id": "4074bf87",
   "metadata": {},
   "outputs": [],
   "source": [
    "Final Choice\n",
    "On Test  *"
   ]
  },
  {
   "cell_type": "code",
   "execution_count": null,
   "id": "51ffcc2b",
   "metadata": {},
   "outputs": [],
   "source": [
    "csv"
   ]
  },
  {
   "cell_type": "code",
   "execution_count": null,
   "id": "6db360e3",
   "metadata": {},
   "outputs": [],
   "source": [
    "Final Notebook *\n",
    "\n",
    "Only "
   ]
  },
  {
   "cell_type": "code",
   "execution_count": null,
   "id": "dcd21b29",
   "metadata": {},
   "outputs": [],
   "source": [
    "README *"
   ]
  },
  {
   "cell_type": "code",
   "execution_count": null,
   "id": "8b35b760",
   "metadata": {},
   "outputs": [],
   "source": [
    "Presentation"
   ]
  },
  {
   "cell_type": "code",
   "execution_count": null,
   "id": "46c1ec00",
   "metadata": {},
   "outputs": [],
   "source": [
    "Improve MVP"
   ]
  },
  {
   "cell_type": "code",
   "execution_count": null,
   "id": "b8214bee",
   "metadata": {},
   "outputs": [],
   "source": [
    "The best feature combo with best Model. Compare to the baseline.\n",
    "Exploration Takeaways. Statisctics ie 43%"
   ]
  }
 ],
 "metadata": {
  "kernelspec": {
   "display_name": "Python 3 (ipykernel)",
   "language": "python",
   "name": "python3"
  },
  "language_info": {
   "codemirror_mode": {
    "name": "ipython",
    "version": 3
   },
   "file_extension": ".py",
   "mimetype": "text/x-python",
   "name": "python",
   "nbconvert_exporter": "python",
   "pygments_lexer": "ipython3",
   "version": "3.9.15"
  }
 },
 "nbformat": 4,
 "nbformat_minor": 5
}
